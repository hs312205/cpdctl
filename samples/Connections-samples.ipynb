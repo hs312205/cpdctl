{
 "cells": [
  {
   "cell_type": "markdown",
   "metadata": {
    "id": "1f542d9a-c92e-4409-9583-7053d31adfba"
   },
   "source": [
    "# Manage connections and discover assets"
   ]
  },
  {
   "cell_type": "markdown",
   "metadata": {
    "id": "de54bdf0-b34d-4e5a-b5d1-3e32c136b1a4"
   },
   "source": [
    "This notebook contains steps and code to demonstrate support for connections in Cloud Pak for Data using\n",
    "[`cpdctl`](https://github.com/IBM/cpdctl) CLI tool. \n",
    "\n",
    "Some familiarity with Python is helpful. This notebook uses Python 3.7.\n"
   ]
  },
  {
   "cell_type": "markdown",
   "metadata": {
    "id": "5aa775c7-c7fe-4f0f-aab7-93828a5c5968"
   },
   "source": [
    "## Table of contents\n",
    "\n",
    "#### 1. Installation and Configuration of CPDCTL\n",
    "\n",
    "    1.1 Install the latest version of cpdctl \n",
    "    1.2 Check cpdctl version \n",
    "    1.3 Add CPD cluster configuration \n",
    "    \n",
    "    \n",
    "#### 2. Demo cpdctl connection commands\n",
    "\n",
    "    2.0 Create a project for connection or Choose an existing project\n",
    "    2.1 Create a connection\n",
    "    2.2 List connections\n",
    "    2.3 Discover connection ad-hoc\n",
    "    2.4 Discover data asset (not available until CPD 3.5)\n",
    "    2.5 Get connection\n",
    "    2.6 Update connection\n",
    "    2.7 List actions\n",
    "    2.8 Perform action\n",
    "    2.9 Discover connection\n",
    "    2.10 Delete connection\n",
    "    2.11 Clean up - Delete project created at the beggining (containing our connection)\n",
    "    \n",
    "#### 3. Demo cpdctl connection datasource types commands\n",
    "\n",
    "    3.1 List datasource types\n",
    "    3.2 Get datasource type\n",
    "    \n",
    "### Another useful documentation regarding connections parameters can be found here:\n",
    "\n",
    "Connections REST API docs https://api.dataplatform.dev.cloud.ibm.com/v2/connections/api/explorer/\n",
    "\n",
    "Watson Data API docs https://cloud.ibm.com/apidocs/watson-data-api#listconnections\n",
    "\n"
   ]
  },
  {
   "cell_type": "code",
   "execution_count": 1,
   "metadata": {
    "id": "e172fec2-cfe0-4c15-b4d9-0a026ddaa885",
    "tags": []
   },
   "outputs": [],
   "source": [
    "import base64\n",
    "import json\n",
    "import os\n",
    "import requests\n",
    "import platform\n",
    "import tarfile\n",
    "import zipfile\n",
    "from IPython.core.display import display, HTML"
   ]
  },
  {
   "cell_type": "markdown",
   "metadata": {
    "id": "12522faf-107d-4e14-9dcd-e264511280ba"
   },
   "source": [
    "## 1. Installation and Configuration of CPDCTL\n",
    "\n",
    "\n",
    "### 1.1 Install the latest version of cpdctl"
   ]
  },
  {
   "cell_type": "code",
   "execution_count": 2,
   "metadata": {
    "id": "d5e284be-f777-4ca3-b793-3c19e83daa93",
    "scrolled": true,
    "tags": []
   },
   "outputs": [
    {
     "data": {
      "text/html": [
       "<code>cpdctl</code> binary downloaded from: <a href=\"https://github.com/IBM/cpdctl/releases/download/v1.1.132/cpdctl_linux_amd64.tar.gz\">cpdctl_linux_amd64.tar.gz</a>"
      ],
      "text/plain": [
       "<IPython.core.display.HTML object>"
      ]
     },
     "metadata": {},
     "output_type": "display_data"
    }
   ],
   "source": [
    "PLATFORM = platform.system().lower()\n",
    "CPDCTL_ARCH = \"{}_amd64\".format(PLATFORM)\n",
    "CPDCTL_RELEASES_URL=\"https://api.github.com/repos/IBM/cpdctl/releases\"\n",
    "CWD = os.getcwd()\n",
    "PATH = os.environ['PATH']\n",
    "CPD_CONFIG = os.path.join(CWD, '.cpdctl.config.yml')\n",
    "\n",
    "response = requests.get(CPDCTL_RELEASES_URL)\n",
    "assets = response.json()[0]['assets']\n",
    "platform_asset = next(a for a in assets if CPDCTL_ARCH in a['name'])\n",
    "cpdctl_url = platform_asset['url']\n",
    "cpdctl_file_name = platform_asset['name']\n",
    "\n",
    "response = requests.get(cpdctl_url, headers={'Accept': 'application/octet-stream'})\n",
    "with open(cpdctl_file_name, 'wb') as f:\n",
    "    f.write(response.content)\n",
    "    \n",
    "display(HTML('<code>cpdctl</code> binary downloaded from: <a href=\"{}\">{}</a>'.format(platform_asset['browser_download_url'], platform_asset['name'])))"
   ]
  },
  {
   "cell_type": "code",
   "execution_count": 3,
   "metadata": {
    "id": "74042a9f-4830-4e28-a245-30a6ca6b0acd",
    "tags": []
   },
   "outputs": [],
   "source": [
    "%%capture\n",
    "\n",
    "%env PATH={CWD}:{PATH}\n",
    "%env CPD_CONFIG={CPD_CONFIG}"
   ]
  },
  {
   "cell_type": "markdown",
   "metadata": {
    "id": "8a659e7d-adff-4e37-a872-9e24fc75568f"
   },
   "source": [
    "### 1.2 Check cpdctl version"
   ]
  },
  {
   "cell_type": "code",
   "execution_count": 4,
   "metadata": {
    "id": "5cf2b13d-b736-46b3-b240-0ba1a2c01529",
    "tags": []
   },
   "outputs": [
    {
     "name": "stdout",
     "output_type": "stream",
     "text": [
      "cpdctl version: 1.1.132\n"
     ]
    }
   ],
   "source": [
    "if cpdctl_file_name.endswith('tar.gz'):\n",
    "    with tarfile.open(cpdctl_file_name, \"r:gz\") as tar:\n",
    "        tar.extractall()\n",
    "elif cpdctl_file_name.endswith('zip'):\n",
    "    with zipfile.ZipFile(cpdctl_file_name, 'r') as zf:\n",
    "        zf.extractall()\n",
    "\n",
    "if CPD_CONFIG and os.path.exists(CPD_CONFIG):\n",
    "    os.remove(CPD_CONFIG)\n",
    "    \n",
    "version_r = ! cpdctl version\n",
    "CPDCTL_VERSION = version_r.s\n",
    "\n",
    "print(\"cpdctl version: {}\".format(CPDCTL_VERSION))"
   ]
  },
  {
   "cell_type": "markdown",
   "metadata": {
    "id": "9f6dfe64-adb2-4825-93dc-e788e571e32d"
   },
   "source": [
    "### 1.3 Add CPD cluster configuration"
   ]
  },
  {
   "cell_type": "code",
   "execution_count": 11,
   "metadata": {
    "id": "09bae98f-1b94-4920-b0d0-45ca0c3e68ea",
    "tags": []
   },
   "outputs": [],
   "source": [
    "CPD_USER_NAME = 'dhshi'\n",
    "CPD_USER_PASSWORD = 'passw0rd'\n",
    "CPD_URL = 'https://cpd-cpd-instance.apps.cp4d404ugi.cp.fyre.ibm.com'"
   ]
  },
  {
   "cell_type": "markdown",
   "metadata": {
    "id": "6b564139-45aa-4d12-9cc3-063daaffb3d8"
   },
   "source": [
    "Add \"cpd406_user\" user to the cpdctl configuration"
   ]
  },
  {
   "cell_type": "code",
   "execution_count": 12,
   "metadata": {
    "id": "cc53eb22-10ba-4667-b206-eb33d8cea627",
    "tags": []
   },
   "outputs": [],
   "source": [
    "! cpdctl config user set cpd_user --username {CPD_USER_NAME} --password {CPD_USER_PASSWORD}"
   ]
  },
  {
   "cell_type": "markdown",
   "metadata": {
    "id": "6329fbc8-ab64-4799-a464-0e44c4172ba4"
   },
   "source": [
    "Add \"cpd406\" cluster to the cpdctl configuration"
   ]
  },
  {
   "cell_type": "code",
   "execution_count": 13,
   "metadata": {
    "id": "9f09582c-28e8-46eb-8f93-3c56f9057725",
    "tags": []
   },
   "outputs": [],
   "source": [
    "! cpdctl config profile set cpd --url {CPD_URL}"
   ]
  },
  {
   "cell_type": "markdown",
   "metadata": {
    "id": "5b0aefe9-416b-404b-a7bd-9dfe5c3c8e07"
   },
   "source": [
    "Add \"cpd406\" context to the cpdctl configuration"
   ]
  },
  {
   "cell_type": "code",
   "execution_count": 14,
   "metadata": {
    "id": "04c63985-eb10-40a2-80a0-95c8c0fe0bd3",
    "tags": []
   },
   "outputs": [],
   "source": [
    "! cpdctl config context set cpd --profile cpd --user cpd_user"
   ]
  },
  {
   "cell_type": "markdown",
   "metadata": {
    "id": "9c7fa19d-7fdb-453e-b467-db73102b82dc"
   },
   "source": [
    "List available contexts"
   ]
  },
  {
   "cell_type": "code",
   "execution_count": 15,
   "metadata": {
    "id": "5700e925-7bc0-4be2-bda9-7b8695e2cd83",
    "tags": []
   },
   "outputs": [
    {
     "name": "stdout",
     "output_type": "stream",
     "text": [
      "\u001b[1mName\u001b[0m                          \u001b[1mProfile\u001b[0m                       \u001b[1mUser\u001b[0m                       \u001b[1mCurrent\u001b[0m   \n",
      "\u001b[36;1minClusterEnvironmentContext\u001b[0m   inClusterEnvironmentProfile   inClusterEnvironmentUser   *   \n"
     ]
    }
   ],
   "source": [
    "! cpdctl config context list"
   ]
  },
  {
   "cell_type": "markdown",
   "metadata": {
    "id": "583f79cf-845d-4f57-8713-1d787f610a34"
   },
   "source": [
    "Make sure you use context which you prefer"
   ]
  },
  {
   "cell_type": "code",
   "execution_count": 18,
   "metadata": {
    "id": "2a55277f-fccd-4dcf-83ce-351bb63b5ccd",
    "tags": []
   },
   "outputs": [
    {
     "name": "stdout",
     "output_type": "stream",
     "text": [
      "Switched to context \"inClusterEnvironmentContext\".\n"
     ]
    }
   ],
   "source": [
    "! cpdctl config context use inClusterEnvironmentContext"
   ]
  },
  {
   "cell_type": "markdown",
   "metadata": {
    "id": "9b34ea85-bfed-4f24-9467-1769ccf6de8d"
   },
   "source": [
    "List available projects in context"
   ]
  },
  {
   "cell_type": "code",
   "execution_count": 19,
   "metadata": {
    "id": "f0ac8efc-7474-47ed-955a-4b2f71d44b9c",
    "tags": []
   },
   "outputs": [
    {
     "name": "stdout",
     "output_type": "stream",
     "text": [
      "...\n",
      "\u001b[1mID\u001b[0m                                     \u001b[1mName\u001b[0m                                                \u001b[1mCreated\u001b[0m                    \u001b[1mDescription\u001b[0m                                          \u001b[1mTags\u001b[0m   \n",
      "\u001b[36;1m0619c2d3-2b75-42f7-97c1-9d898fdef44c\u001b[0m   Mortgage default project                            2022-02-11T12:02:58.633Z                                                        []   \n",
      "\u001b[36;1m19a29ada-3e9c-4147-bf35-4cf431ed3a26\u001b[0m   AutoAI-TD-Sub                                       2022-01-25T01:20:57.078Z   The classification goal to train a model that can…   []   \n",
      "\u001b[36;1m2ba058a6-4ef7-4b3b-acde-44baaf288efb\u001b[0m   test-analytics-project-git-ibm-sk-1                 2022-04-01T13:10:46.824Z                                                        []   \n",
      "\u001b[36;1m32d75b88-b113-4bd4-9502-cd2f471a8623\u001b[0m   MLOps-CPD3.0-SWAT-StarterKit-AutoAI-Project-v0.96   2022-01-24T16:02:06.209Z                                                        []   \n",
      "\u001b[36;1m3ea4045c-4ff0-4995-8c80-849d1854b69f\u001b[0m   julian                                              2022-03-30T14:18:22.669Z                                                        []   \n",
      "\u001b[36;1m4aab8ced-62cb-4b13-8708-9883b534c4a6\u001b[0m   test-analytics-project-git-existing-repo            2022-02-11T03:06:38.611Z                                                        []   \n",
      "\u001b[36;1m632cbaf4-f262-45c6-b16b-6746dcc77571\u001b[0m   test-analytics-project-git-ibm-sk-2                 2022-02-15T03:47:31.580Z                                                        []   \n",
      "\u001b[36;1m635a5511-72f6-4eb3-8ec6-0763a25e39cb\u001b[0m   cpdctl-samples-project                              2022-04-03T02:09:06.178Z   cpdctl utility and notebook tutorials sample proj…   []   \n",
      "\u001b[36;1m6d0fa8ad-0b6c-475d-a39e-d672b544d5b6\u001b[0m   MLOps-CPD3.0-SWAT-StarterKit-AutoAI-Project-v0.96   2022-03-29T16:36:07.200Z                                                        []   \n",
      "\u001b[36;1m949ac641-aa2c-4c00-a9c1-c21c82613f62\u001b[0m   CP4D-SWAT-EC-Git-IBM-Deprecated                     2022-03-20T19:35:20.895Z                                                        []   \n"
     ]
    }
   ],
   "source": [
    "! cpdctl project list"
   ]
  },
  {
   "cell_type": "markdown",
   "metadata": {
    "id": "3d540279-a687-44bd-9b22-2df86544929b"
   },
   "source": [
    "## 2. Demo cpdctl connections commands\n",
    "\n",
    "### 2.0 Create a project for connection or Choose an existing project\n",
    "\n",
    "To create a connection, first you need to have a project, catalog or space.\n",
    "You can either choose an existing project:"
   ]
  },
  {
   "cell_type": "code",
   "execution_count": 20,
   "metadata": {
    "id": "d4f7c446-bf01-4ef1-ab2e-969e7472fea3",
    "tags": []
   },
   "outputs": [
    {
     "name": "stdout",
     "output_type": "stream",
     "text": [
      "project id: 0619c2d3-2b75-42f7-97c1-9d898fdef44c\n"
     ]
    }
   ],
   "source": [
    "result = ! cpdctl project list --output json -j \"(resources[].metadata.guid)[0]\" --raw-output\n",
    "PROJECT_ID = result.s\n",
    "print(f'project id: {PROJECT_ID}')\n",
    "\n",
    "# You can also specify your project id directly:\n",
    "# PROJECT_ID = \"Your project ID\""
   ]
  },
  {
   "cell_type": "markdown",
   "metadata": {
    "id": "538ed8af-2985-40a2-a467-6f7a628a2dd3"
   },
   "source": [
    "Or create a new project:"
   ]
  },
  {
   "cell_type": "code",
   "execution_count": 21,
   "metadata": {
    "id": "fd546d99-1e7c-4215-a3b4-50732256dd10",
    "tags": []
   },
   "outputs": [
    {
     "name": "stdout",
     "output_type": "stream",
     "text": [
      "project id: 1bc0f8a6-6f33-439e-8299-025b2f4cb383\n"
     ]
    }
   ],
   "source": [
    "import uuid\n",
    "STORAGE = {\"type\": \"assetfiles\", \"guid\": str(uuid.uuid4())}\n",
    "STORAGE_JSON = json.dumps(STORAGE)\n",
    "result = ! cpdctl project create --name \"cpdctl-test-proj\" --output json --raw-output --generator cli --storage '{STORAGE_JSON}' -j 'location'\n",
    "PROJECT_ID = result.s.split('/')[-1]\n",
    "print(f'project id: {PROJECT_ID}')"
   ]
  },
  {
   "cell_type": "markdown",
   "metadata": {
    "id": "c1ae8fed-a9cc-4fcc-9cdc-25eb0f0c7fda"
   },
   "source": [
    "### 2.1 Create a connection\n",
    "\n",
    "Here, as an example, connection properties to DB2 were used. Type your connection properties."
   ]
  },
  {
   "cell_type": "code",
   "execution_count": 25,
   "metadata": {
    "id": "10f41941-67a1-41a1-9a21-7114e282befd",
    "tags": []
   },
   "outputs": [],
   "source": [
    "CREATE_CONN_PROPERTIES = '''\n",
    "{\n",
    "      \"database\": \"AIOSDB2\",\n",
    "      \"host\": \"9.30.248.108\",\n",
    "      \"port\": \"50000\",\n",
    "      \"password\": \"T3l3phon3passw0rd\",\n",
    "      \"username\": \"db2inst1\"\n",
    "}\n",
    "'''"
   ]
  },
  {
   "cell_type": "code",
   "execution_count": 26,
   "metadata": {
    "id": "e4d68253-2e79-4f13-bbeb-c488f0b0cc67",
    "tags": []
   },
   "outputs": [
    {
     "name": "stdout",
     "output_type": "stream",
     "text": [
      "connection id: 5aa42f73-19ba-468a-881c-f09499bad7fe\n"
     ]
    }
   ],
   "source": [
    "result = ! cpdctl connection create --name \"cpdctl-test-conn\" --description \"test connection to aiosdb2\" --datasource-type \"db2\" --project-id '{PROJECT_ID}' --properties '{CREATE_CONN_PROPERTIES}' -j metadata.asset_id --origin-country us --output json -j 'metadata.asset_id'\n",
    "CONNECTION_ID = result.s[1:-1]\n",
    "print(f'connection id: {CONNECTION_ID}')"
   ]
  },
  {
   "cell_type": "markdown",
   "metadata": {
    "id": "b0214814-7974-4658-a6c8-34b98c334891"
   },
   "source": [
    "### 2.2 List connections"
   ]
  },
  {
   "cell_type": "code",
   "execution_count": 27,
   "metadata": {
    "id": "72ba41b7-712a-4e09-b2f6-0d9a451e4e87",
    "tags": []
   },
   "outputs": [
    {
     "name": "stdout",
     "output_type": "stream",
     "text": [
      "...\n",
      "\u001b[1mID\u001b[0m                                     \u001b[1mName\u001b[0m               \u001b[1mDescription\u001b[0m                  \u001b[1mType\u001b[0m         \u001b[1mTags\u001b[0m   \n",
      "\u001b[36;1m5aa42f73-19ba-468a-881c-f09499bad7fe\u001b[0m   cpdctl-test-conn   test connection to aiosdb2   connection   []   \n"
     ]
    }
   ],
   "source": [
    "! cpdctl connection list --project-id '{PROJECT_ID}'"
   ]
  },
  {
   "cell_type": "code",
   "execution_count": 28,
   "metadata": {
    "id": "02064f45-70c8-4c9f-9602-e9ce371a4466",
    "tags": []
   },
   "outputs": [
    {
     "name": "stdout",
     "output_type": "stream",
     "text": [
      "...\n",
      "\u001b[1mID\u001b[0m                                     \u001b[1mName\u001b[0m               \u001b[1mDescription\u001b[0m                  \u001b[1mType\u001b[0m         \u001b[1mTags\u001b[0m   \n",
      "\u001b[36;1m5aa42f73-19ba-468a-881c-f09499bad7fe\u001b[0m   cpdctl-test-conn   test connection to aiosdb2   connection   []   \n"
     ]
    }
   ],
   "source": [
    "! cpdctl connection list --project-id '{PROJECT_ID}' --entity-name \"cpdctl-test-conn\""
   ]
  },
  {
   "cell_type": "code",
   "execution_count": 29,
   "metadata": {
    "id": "26abe6af-ef20-478b-b25a-e8bad8a94d6d",
    "tags": []
   },
   "outputs": [
    {
     "name": "stdout",
     "output_type": "stream",
     "text": [
      "...\n",
      "\u001b[1mID\u001b[0m                                     \u001b[1mName\u001b[0m               \u001b[1mDescription\u001b[0m                  \u001b[1mType\u001b[0m         \u001b[1mTags\u001b[0m   \n",
      "\u001b[36;1m5aa42f73-19ba-468a-881c-f09499bad7fe\u001b[0m   cpdctl-test-conn   test connection to aiosdb2   connection   []   \n"
     ]
    }
   ],
   "source": [
    "! cpdctl connection list --project-id '{PROJECT_ID}' --entity-flags \"restricted\" --sort \"entity.name\""
   ]
  },
  {
   "cell_type": "markdown",
   "metadata": {
    "id": "b31baf6f-4614-49d4-a076-bce43b721816"
   },
   "source": [
    "### 2.3 Discover connection ad-hoc"
   ]
  },
  {
   "cell_type": "code",
   "execution_count": 33,
   "metadata": {
    "id": "db6b428e-ef84-422c-bbc3-ada559613905",
    "tags": []
   },
   "outputs": [
    {
     "name": "stdout",
     "output_type": "stream",
     "text": [
      "...\n",
      "\u001b[1m\u001b[0m              \u001b[1m\u001b[0m   \n",
      "\u001b[36;1mnext\u001b[0m          <Nested Object>   \n",
      "\u001b[36;1mpath\u001b[0m          /DB2INST1   \n",
      "\u001b[36;1mprev\u001b[0m          <Nested Object>   \n",
      "\u001b[36;1mtotal_count\u001b[0m   1   \n",
      "\u001b[36;1masset_types\u001b[0m   <Array>   \n",
      "\u001b[36;1massets\u001b[0m        <Array>   \n",
      "\u001b[36;1mfirst\u001b[0m         <Nested Object>   \n"
     ]
    }
   ],
   "source": [
    "! cpdctl connection discover-adhoc --path \"/DB2INST1\" --datasource-type \"db2\" --name \"conn_db2_adhoc\" --properties '{CREATE_CONN_PROPERTIES}'"
   ]
  },
  {
   "cell_type": "code",
   "execution_count": 35,
   "metadata": {
    "id": "1f2e2427-f5f8-4c6f-b077-c451a19e3666",
    "tags": []
   },
   "outputs": [
    {
     "name": "stdout",
     "output_type": "stream",
     "text": [
      "{\n",
      "  \"asset_types\": [\n",
      "    {\n",
      "      \"dataset\": true,\n",
      "      \"dataset_container\": false,\n",
      "      \"type\": \"table\"\n",
      "    }\n",
      "  ],\n",
      "  \"assets\": [\n",
      "    {\n",
      "      \"id\": \"TEST\",\n",
      "      \"name\": \"TEST\",\n",
      "      \"path\": \"/DB2INST1/TEST\",\n",
      "      \"type\": \"table\"\n",
      "    }\n",
      "  ],\n",
      "  \"first\": {\n",
      "    \"href\": \"https://internal-nginx-svc/v2/connections/assets?offset=0\\u0026limit=100\\u0026path=%2FDB2INST1\"\n",
      "  },\n",
      "  \"next\": {\n",
      "    \"href\": \"https://internal-nginx-svc/v2/connections/assets?offset=100\\u0026limit=100\\u0026path=%2FDB2INST1\"\n",
      "  },\n",
      "  \"path\": \"/DB2INST1\",\n",
      "  \"prev\": {\n",
      "    \"href\": \"https://internal-nginx-svc/v2/connections/assets?offset=0\\u0026limit=100\\u0026path=%2FDB2INST1\"\n",
      "  },\n",
      "  \"total_count\": 1\n",
      "}\n"
     ]
    }
   ],
   "source": [
    "! cpdctl connection discover-adhoc --path \"/DB2INST1\" --datasource-type \"db2\" --name \"conn_db2_adhoc\" --properties '{CREATE_CONN_PROPERTIES}' --output json"
   ]
  },
  {
   "cell_type": "markdown",
   "metadata": {
    "id": "62491037-ae8a-453e-94d7-1d9f429b1432"
   },
   "source": [
    "### 2.4 Discover data asset (not available until CPD 3.5)\n",
    "\n",
    "To discover data asset, we first need to have a connected data asset ID. \n",
    "\n",
    "To get it we may create a new connected data asset or take an existing data asset ID.\n",
    "\n",
    "\n",
    "#### Creating new connected data asset\n",
    "\n",
    "Replace properties with your data. Especially connection_path."
   ]
  },
  {
   "cell_type": "code",
   "execution_count": 39,
   "metadata": {
    "id": "167bea2b-fc9f-416e-bfd8-438be6abeb4a",
    "tags": []
   },
   "outputs": [
    {
     "name": "stdout",
     "output_type": "stream",
     "text": [
      "data asset id: 9044bbfc-2cd0-4f89-bb91-4400156cff73\n"
     ]
    }
   ],
   "source": [
    "ASSET_METADATA = '''\n",
    "{\n",
    "      \"name\": \"connected-data-asset\",\n",
    "      \"asset_type\": \"data_asset\",\n",
    "      \"origin_country\": \"us\",\n",
    "      \"asset_category\": \"USER\"\n",
    "}\n",
    "'''\n",
    "ASSET_ENTITY = '''\n",
    "{\n",
    "        \"data_asset\": {      \n",
    "            \"mime_type\": \"text/csv\",\n",
    "            \"dataset\": false\n",
    "        }\n",
    "}\n",
    "'''\n",
    "ATTACHMENTS = '''\n",
    "[\n",
    "        {\n",
    "            \"asset_type\": \"data_asset\",\n",
    "            \"connection_id\": \"5aa42f73-19ba-468a-881c-f09499bad7fe\",\n",
    "            \"connection_path\": \"DB2INST1/TEST\"\n",
    "        }\n",
    "]\n",
    "'''\n",
    "\n",
    "ATTACHMENTS = ATTACHMENTS.replace(\"5aa42f73-19ba-468a-881c-f09499bad7fe\", CONNECTION_ID)\n",
    "result = ! cpdctl asset data-asset create --project-id '{PROJECT_ID}' --metadata '{ASSET_METADATA}' --entity '{ASSET_ENTITY}' --attachments '{ATTACHMENTS}' --output json -j metadata.asset_id\n",
    "DATA_ASSET_ID = result.s[1:-1]\n",
    "print(f'data asset id: {DATA_ASSET_ID}')"
   ]
  },
  {
   "cell_type": "markdown",
   "metadata": {
    "id": "29da1537-28f9-407d-ba63-78532b2b9a65"
   },
   "source": [
    "#### Discover data asset"
   ]
  },
  {
   "cell_type": "code",
   "execution_count": 40,
   "metadata": {
    "id": "c9f4467f-648f-426c-b4ba-8e9e0d8b92b4",
    "tags": []
   },
   "outputs": [
    {
     "name": "stdout",
     "output_type": "stream",
     "text": [
      "...\n",
      "\u001b[1mfirst\u001b[0m             \u001b[1mpath\u001b[0m            \u001b[1mtotal_count\u001b[0m   \u001b[1mname\u001b[0m   \u001b[1mtype\u001b[0m   \n",
      "\u001b[36;1m<Nested Object>\u001b[0m   DB2INST1/TEST   1             COL1   <Nested Object>   \n",
      "\u001b[36;1m<Nested Object>\u001b[0m   DB2INST1/TEST   1             COL2   <Nested Object>   \n"
     ]
    }
   ],
   "source": [
    "! cpdctl connection discover-data-asset --data-asset-id '{DATA_ASSET_ID}' --project-id '{PROJECT_ID}'"
   ]
  },
  {
   "cell_type": "code",
   "execution_count": 41,
   "metadata": {
    "id": "02220466-4cc9-46b7-a33e-0e7cedb288ed",
    "tags": []
   },
   "outputs": [
    {
     "name": "stdout",
     "output_type": "stream",
     "text": [
      "{\n",
      "  \"fields\": [\n",
      "    {\n",
      "      \"name\": \"COL1\",\n",
      "      \"type\": {\n",
      "        \"length\": 10,\n",
      "        \"nullable\": true,\n",
      "        \"scale\": 0,\n",
      "        \"signed\": true,\n",
      "        \"type\": \"integer\"\n",
      "      }\n",
      "    },\n",
      "    {\n",
      "      \"name\": \"COL2\",\n",
      "      \"type\": {\n",
      "        \"length\": 10,\n",
      "        \"nullable\": true,\n",
      "        \"scale\": 0,\n",
      "        \"signed\": true,\n",
      "        \"type\": \"integer\"\n",
      "      }\n",
      "    }\n",
      "  ],\n",
      "  \"first\": {\n",
      "    \"href\": \"https://internal-nginx-svc/v2/connections/assets/9044bbfc-2cd0-4f89-bb91-4400156cff73?project_id=1bc0f8a6-6f33-439e-8299-025b2f4cb383\\u0026userfs=false\\u0026offset=0\\u0026limit=100\"\n",
      "  },\n",
      "  \"path\": \"DB2INST1/TEST\",\n",
      "  \"total_count\": 1\n",
      "}\n"
     ]
    }
   ],
   "source": [
    "! cpdctl connection discover-data-asset --data-asset-id '{DATA_ASSET_ID}' --project-id '{PROJECT_ID}' --output json"
   ]
  },
  {
   "cell_type": "markdown",
   "metadata": {
    "id": "b6f60534-ddec-4314-985c-6f4158ed9355"
   },
   "source": [
    "### 2.5 Get connection"
   ]
  },
  {
   "cell_type": "code",
   "execution_count": 42,
   "metadata": {
    "id": "b9a4533d-bb02-45ce-a7d2-81748c3a558d",
    "tags": []
   },
   "outputs": [
    {
     "name": "stdout",
     "output_type": "stream",
     "text": [
      "...\n",
      "\u001b[1m\u001b[0m               \u001b[1m\u001b[0m   \n",
      "\u001b[36;1mID:\u001b[0m            5aa42f73-19ba-468a-881c-f09499bad7fe   \n",
      "\u001b[36;1mName:\u001b[0m          cpdctl-test-conn   \n",
      "\u001b[36;1mDescription:\u001b[0m   test connection to aiosdb2   \n",
      "\u001b[36;1mType:\u001b[0m          connection   \n",
      "\u001b[36;1mTags:\u001b[0m          []   \n"
     ]
    }
   ],
   "source": [
    "! cpdctl connection get --project-id '{PROJECT_ID}' --connection-id '{CONNECTION_ID}'"
   ]
  },
  {
   "cell_type": "markdown",
   "metadata": {
    "id": "c9767d5a-87eb-43f4-b2c9-7fb5e9aade34"
   },
   "source": [
    "### 2.6 Update connection\n",
    "\n",
    "Here is an example of updating name of connection, fom existing to the new one"
   ]
  },
  {
   "cell_type": "code",
   "execution_count": 43,
   "metadata": {
    "id": "2d2dc5b2-796b-466d-be82-30839156d398",
    "tags": []
   },
   "outputs": [
    {
     "name": "stdout",
     "output_type": "stream",
     "text": [
      "...\n",
      "\u001b[1m\u001b[0m               \u001b[1m\u001b[0m   \n",
      "\u001b[36;1mName:\u001b[0m          updated-conn-name   \n",
      "\u001b[36;1mDescription:\u001b[0m   test connection to aiosdb2   \n",
      "\u001b[36;1mTags:\u001b[0m          []   \n"
     ]
    }
   ],
   "source": [
    "UPDATE_CONN_PROPERTIES = '''\n",
    "[{\n",
    "      \"op\": \"replace\",\n",
    "      \"path\": \"/name\",\n",
    "      \"from\": \"cpdctl-test-conn\",\n",
    "      \"value\": \"updated-conn-name\"\n",
    "}]\n",
    "'''\n",
    "\n",
    "! cpdctl connection update --project-id '{PROJECT_ID}' --connection-id '{CONNECTION_ID}' --patch-request '{UPDATE_CONN_PROPERTIES}'"
   ]
  },
  {
   "cell_type": "markdown",
   "metadata": {
    "id": "c6f8d523-bd52-4726-bca5-7f1f2a834d5b"
   },
   "source": [
    "### 2.7 List actions"
   ]
  },
  {
   "cell_type": "code",
   "execution_count": 44,
   "metadata": {
    "id": "73b4f9cb-d477-4ea1-957e-627c6c3c4484",
    "tags": []
   },
   "outputs": [
    {
     "name": "stdout",
     "output_type": "stream",
     "text": [
      "...\n",
      "\u001b[1mName\u001b[0m               \u001b[1mDescription\u001b[0m   \n",
      "\u001b[36;1mget_record_count\u001b[0m   Get the number of rows in the specified table   \n"
     ]
    }
   ],
   "source": [
    "! cpdctl connection list-actions --project-id '{PROJECT_ID}' --connection-id '{CONNECTION_ID}'"
   ]
  },
  {
   "cell_type": "code",
   "execution_count": 45,
   "metadata": {
    "id": "7b642380-8da9-4a5d-8747-0ceaa8e8343e",
    "tags": []
   },
   "outputs": [
    {
     "name": "stdout",
     "output_type": "stream",
     "text": [
      "{\n",
      "  \"actions\": [\n",
      "    {\n",
      "      \"description\": \"Get the number of rows in the specified table\",\n",
      "      \"name\": \"get_record_count\",\n",
      "      \"properties\": {\n",
      "        \"input\": [\n",
      "          {\n",
      "            \"description\": \"Name of the schema that contains the table\",\n",
      "            \"hidden\": false,\n",
      "            \"label\": \"Schema name\",\n",
      "            \"masked\": false,\n",
      "            \"multiline\": false,\n",
      "            \"name\": \"schema_name\",\n",
      "            \"readonly\": false,\n",
      "            \"required\": false,\n",
      "            \"type\": \"string\",\n",
      "            \"user_defined\": false\n",
      "          },\n",
      "          {\n",
      "            \"description\": \"Name of the table for which to obtain the number of rows\",\n",
      "            \"hidden\": false,\n",
      "            \"label\": \"Table name\",\n",
      "            \"masked\": false,\n",
      "            \"multiline\": false,\n",
      "            \"name\": \"table_name\",\n",
      "            \"readonly\": false,\n",
      "            \"required\": true,\n",
      "            \"type\": \"string\",\n",
      "            \"user_defined\": false\n",
      "          }\n",
      "        ],\n",
      "        \"output\": [\n",
      "          {\n",
      "            \"description\": \"Number of available rows\",\n",
      "            \"hidden\": false,\n",
      "            \"label\": \"Record count\",\n",
      "            \"masked\": false,\n",
      "            \"multiline\": false,\n",
      "            \"name\": \"record_count\",\n",
      "            \"readonly\": false,\n",
      "            \"required\": true,\n",
      "            \"type\": \"integer\",\n",
      "            \"user_defined\": false\n",
      "          }\n",
      "        ]\n",
      "      }\n",
      "    }\n",
      "  ]\n",
      "}\n"
     ]
    }
   ],
   "source": [
    "! cpdctl connection list-actions --project-id '{PROJECT_ID}' --connection-id '{CONNECTION_ID}' --output json"
   ]
  },
  {
   "cell_type": "markdown",
   "metadata": {
    "id": "0370098e-0a7d-471a-bddf-0696643a2f00"
   },
   "source": [
    "### 2.8 Perform action\n",
    "\n",
    "Actions are different for each connector.\n",
    "Action name with it's necassary properties can be taken from the list-actions output (look at 2.7 List actions)"
   ]
  },
  {
   "cell_type": "code",
   "execution_count": 46,
   "metadata": {
    "id": "b246580b-80d3-4c49-92d8-a050efd6097b",
    "tags": []
   },
   "outputs": [
    {
     "name": "stdout",
     "output_type": "stream",
     "text": [
      "...\n",
      "\u001b[1m\u001b[0m               \u001b[1m\u001b[0m   \n",
      "\u001b[36;1mrecord_count\u001b[0m   3   \n"
     ]
    }
   ],
   "source": [
    "PERFORM_ACTION_PROPS = '''\n",
    "{\n",
    "        \"schema_name\": \"DB2INST1\",\n",
    "        \"table_name\": \"TEST\"\n",
    "}\n",
    "'''\n",
    "\n",
    "! cpdctl connection perform-action --project-id '{PROJECT_ID}' --connection-id '{CONNECTION_ID}' --action-name \"get_record_count\" --request='{PERFORM_ACTION_PROPS}'"
   ]
  },
  {
   "cell_type": "markdown",
   "metadata": {
    "id": "cfc2bd79-86e5-40d0-9185-6ba3a6602c7e"
   },
   "source": [
    "### 2.9 Discover connection"
   ]
  },
  {
   "cell_type": "code",
   "execution_count": 47,
   "metadata": {
    "id": "2b99489a-60e9-44fd-aa42-9e4fddc691ed",
    "tags": []
   },
   "outputs": [
    {
     "name": "stdout",
     "output_type": "stream",
     "text": [
      "...\n",
      "\u001b[1m\u001b[0m              \u001b[1m\u001b[0m   \n",
      "\u001b[36;1mtotal_count\u001b[0m   1   \n",
      "\u001b[36;1masset_types\u001b[0m   <Array>   \n",
      "\u001b[36;1massets\u001b[0m        <Array>   \n",
      "\u001b[36;1mfirst\u001b[0m         <Nested Object>   \n",
      "\u001b[36;1mpath\u001b[0m          /DB2INST1   \n"
     ]
    }
   ],
   "source": [
    "! cpdctl connection discover --project-id '{PROJECT_ID}' --connection-id '{CONNECTION_ID}' --path=\"/DB2INST1\""
   ]
  },
  {
   "cell_type": "code",
   "execution_count": 48,
   "metadata": {
    "id": "8cc504c5-d691-4b2a-85b8-dcb8146df082",
    "tags": []
   },
   "outputs": [
    {
     "name": "stdout",
     "output_type": "stream",
     "text": [
      "{\n",
      "  \"asset_types\": [\n",
      "    {\n",
      "      \"dataset\": true,\n",
      "      \"dataset_container\": false,\n",
      "      \"type\": \"table\"\n",
      "    }\n",
      "  ],\n",
      "  \"assets\": [\n",
      "    {\n",
      "      \"id\": \"TEST\",\n",
      "      \"name\": \"TEST\",\n",
      "      \"path\": \"/DB2INST1/TEST\",\n",
      "      \"type\": \"table\"\n",
      "    }\n",
      "  ],\n",
      "  \"first\": {\n",
      "    \"href\": \"https://internal-nginx-svc/v2/connections/5aa42f73-19ba-468a-881c-f09499bad7fe/assets?project_id=1bc0f8a6-6f33-439e-8299-025b2f4cb383\\u0026userfs=false\\u0026offset=0\\u0026limit=100\\u0026path=%2FDB2INST1\"\n",
      "  },\n",
      "  \"path\": \"/DB2INST1\",\n",
      "  \"total_count\": 1\n",
      "}\n"
     ]
    }
   ],
   "source": [
    "! cpdctl connection discover --project-id '{PROJECT_ID}' --connection-id '{CONNECTION_ID}' --path=\"/DB2INST1\" --output json"
   ]
  },
  {
   "cell_type": "markdown",
   "metadata": {
    "id": "e15bb7b1-6ee2-4595-b0b1-621b3bf0fca0"
   },
   "source": [
    "### 2.10 Delete connection"
   ]
  },
  {
   "cell_type": "code",
   "execution_count": 49,
   "metadata": {
    "id": "9ba80596-7274-4b15-93ee-c5ca8e53367e",
    "tags": []
   },
   "outputs": [
    {
     "name": "stdout",
     "output_type": "stream",
     "text": [
      "...\n",
      "\u001b[32;1mOK\u001b[0m\n"
     ]
    }
   ],
   "source": [
    "! cpdctl connection delete --project-id '{PROJECT_ID}' --connection-id '{CONNECTION_ID}'"
   ]
  },
  {
   "cell_type": "markdown",
   "metadata": {
    "id": "e5c19d31-78e6-43cb-8ebb-4fb113020d99"
   },
   "source": [
    "### 2.11 Clean up - Delete project created at the beggining (containing our connection)"
   ]
  },
  {
   "cell_type": "code",
   "execution_count": 50,
   "metadata": {
    "id": "818b2b86-3253-4195-a2cd-6812698ea0d9",
    "tags": []
   },
   "outputs": [
    {
     "name": "stdout",
     "output_type": "stream",
     "text": [
      "...\n",
      "\u001b[32;1mOK\u001b[0m\n"
     ]
    }
   ],
   "source": [
    "! cpdctl project delete --project-id '{PROJECT_ID}'"
   ]
  },
  {
   "cell_type": "markdown",
   "metadata": {
    "id": "b3c55c87-39c3-41eb-8ae8-2f5af5050cdf"
   },
   "source": [
    "## 3. Demo cpdctl connection datasource types commands\n",
    "\n",
    "### 3.1 List datasource types"
   ]
  },
  {
   "cell_type": "code",
   "execution_count": 51,
   "metadata": {
    "id": "1dc2d36e-1a31-467b-a121-86468049be88",
    "tags": []
   },
   "outputs": [
    {
     "name": "stdout",
     "output_type": "stream",
     "text": [
      "...\n",
      "\u001b[1mID\u001b[0m                                     \u001b[1mName\u001b[0m                        \u001b[1mDescription\u001b[0m                                          \u001b[1mType\u001b[0m       \u001b[1mTags\u001b[0m   \n",
      "\u001b[36;1m029e5d1c-ba73-4b09-b742-14c3a39b6cf9\u001b[0m   informix                    IBM Informix database                                database   []   \n",
      "\u001b[36;1m048ed1bf-516c-46f0-ae90-fa3349d8bc1c\u001b[0m   postgresql-ibmcloud         Databases for PostgreSQL database                    database   []   \n",
      "\u001b[36;1m05b7f0ea-6ae4-45e2-a455-cc280f110825\u001b[0m   googlecloudstorage          Google Cloud Storage                                 file       []   \n",
      "\u001b[36;1m05c58384-862e-4597-b19a-c71ea7e760bc\u001b[0m   impala                      Cloudera Impala database                             database   []   \n",
      "\u001b[36;1m06847b16-07b4-4415-a924-c63d11a17aa1\u001b[0m   salesforce                  Salesforce.com                                       database   []   \n",
      "\u001b[36;1m0bd5946b-6fcb-4253-bf76-48b362d24a89\u001b[0m   datastax-ibmcloud           DataStax on IBM Cloud database                       database   []   \n",
      "\u001b[36;1m0c431748-2572-11ea-978f-2e728ce88125\u001b[0m   cosmos                      Microsoft Azure Cosmos DB                            file       []   \n",
      "\u001b[36;1m0ca92c3d-0e46-3b42-a573-77958d53c9be\u001b[0m   odbc-datastage              Connection to a database using the ODBC applicati…   database   []   \n",
      "\u001b[36;1m0cd4b64c-b485-47ed-a8c4-329c25412de3\u001b[0m   mysql-compose               Compose for MySQL database                           database   []   \n",
      "\u001b[36;1m0fd83fe5-8995-4e2e-a1be-679bb8813a6d\u001b[0m   hive                        Apache Hive database                                 database   []   \n",
      "\u001b[36;1m11f3029d-a1cf-4c4d-b8e7-64422fa54a94\u001b[0m   cognos-analytics            Cognos Analytics                                     file       []   \n",
      "\u001b[36;1m123e4263-dd25-44e5-8282-cf1b2eeea9bd\u001b[0m   cassandra-datastage         Cassandra Connector for DataStage                    generic    []   \n",
      "\u001b[36;1m13e8b257-1dff-49ed-bac8-7eca796a40b3\u001b[0m   hive-watson                 Hive via Execution Engine for Hadoop                 database   []   \n",
      "\u001b[36;1m193a97c1-4475-4a19-b90c-295c4fdc6517\u001b[0m   bluemixcloudobjectstorage   Cloud Object Storage service on IBM Cloud. Offers…   file       []   \n",
      "\u001b[36;1m200d71ab-24a5-4b3d-85a4-a365bdd0d4cb\u001b[0m   elasticsearch               Elasticsearch                                        file       []   \n",
      "\u001b[36;1m21364ca9-5b2d-323e-bd4d-59ba961f75fb\u001b[0m   webspheremq-datastage       MQ connection                                        database   []   \n",
      "\u001b[36;1m27c3e1b0-b7d2-4e32-9511-1b8aaa197de0\u001b[0m   odata                       OData                                                generic    []   \n",
      "\u001b[36;1m2a7b4fa1-c770-4807-8871-a3c5def5aa2d\u001b[0m   azurefilestorage            Microsoft Azure File Storage                         file       []   \n",
      "\u001b[36;1m2bdd9544-f13a-47b6-b6c3-f5964a08066a\u001b[0m   bigsql                      IBM Db2 Big SQL                                      database   []   \n",
      "\u001b[36;1m2fc1372f-b58c-4d45-b0c4-dfb32a1c78a5\u001b[0m   snowflake                   Snowflake database                                   database   []   \n",
      "\u001b[36;1m31170994-f54c-4148-9c5a-807832fa1d07\u001b[0m   redshift                    Amazon Redshift database                             database   []   \n",
      "\u001b[36;1m335cbfe7-e495-474e-8ad7-78ad63c05091\u001b[0m   db2iseries                  IBM Db2 database for i                               database   []   \n",
      "\u001b[36;1m38714ac2-8f66-4a8c-9b40-806ffb61c759\u001b[0m   generics3                   A storage service compatible with the Amazon S3 A…   file       []   \n",
      "\u001b[36;1m39a78d59-ef34-4108-8e46-4460433a3b99\u001b[0m   dvm                         IBM Data Virtualization Manager for z/OS             database   []   \n",
      "\u001b[36;1m3a00dbd2-2540-4976-afc2-5fc59f68ed35\u001b[0m   salesforce-datastage        Connection to a Salesforce.com enterprise applica…   generic    []   \n",
      "\u001b[36;1m4210c294-8b0f-46b4-bcdc-1c6ada2b7e6b\u001b[0m   http                        Hypertext Transfer Protocol (HTTP)                   file       []   \n",
      "\u001b[36;1m44e904b5-0cb2-4d8e-a5c0-c48bc3e24fdd\u001b[0m   cloudant                    IBM Cloudant                                         file       []   \n",
      "\u001b[36;1m4656c47e-3ada-467e-a541-466c0c55df05\u001b[0m   saphana                     SAP HANA database                                    database   []   \n",
      "\u001b[36;1m48695e79-6279-474a-b539-342625d3dfc2\u001b[0m   sqlserver                   Microsoft SQL Server database                        database   []   \n",
      "\u001b[36;1m49079262-fac2-4762-99d1-452c1caf6b49\u001b[0m   sybaseiq                    SAP IQ database                                      database   []   \n",
      "\u001b[36;1m49686982-255f-423a-a5de-d825bfc0abe3\u001b[0m   dv                          IBM Data Virtualization                              database   []   \n",
      "\u001b[36;1m4bf2dedd-3809-4443-96ec-b7bc5726c07b\u001b[0m   cloudobjectstorage          Object storage for workloads requiring AWS SDKs a…   file       []   \n",
      "\u001b[36;1m506039fb-802f-4ef2-a2bf-c1682e9c8aa2\u001b[0m   db2cloud                    IBM Db2 fully-managed cloud SQL database             database   []   \n",
      "\u001b[36;1m507b850c-f4a1-41d7-ad64-4182a1264014\u001b[0m   dropbox                     Dropbox secure file sharing and storage service      file       []   \n",
      "\u001b[36;1m526f54ea-cde0-4818-a0b6-749efd35ccfa\u001b[0m   impala-watson               Impala via Execution Engine for Hadoop               database   []   \n",
      "\u001b[36;1m63e2d853-e650-3b59-91a5-95e7bf725b9b\u001b[0m   netezza-datastage           Connection to a Netezza Performance Server databa…   database   []   \n",
      "\u001b[36;1m6863060d-97c4-4653-abbe-958bde533f8c\u001b[0m   azuredatalake               Microsoft Azure Data Lake Store via the WebHDFS A…   file       []   \n",
      "\u001b[36;1m693c2a02-39d1-4394-9426-fcdcfc4f3d7a\u001b[0m   googlepubsub                Google Cloud Pub/Sub                                 file       []   \n",
      "\u001b[36;1m6976a3fc-b2ad-4db6-818c-ea049cac309d\u001b[0m   sybase                      SAP ASE database                                     database   []   \n",
      "\u001b[36;1m69857d6b-2be8-4a59-8a70-723405f09708\u001b[0m   looker                      Looker                                               file       []   \n",
      "\u001b[36;1m6bcaf300-30b3-11eb-adc1-0242ac120002\u001b[0m   sqlquery                    IBM SQL Query                                        database   []   \n",
      "\u001b[36;1m79a0a133-cbb6-48d0-a3b0-0956a9655401\u001b[0m   sapodata                    SAP OData                                            generic    []   \n",
      "\u001b[36;1m8136a39f-465f-43a3-a606-ce238fb19116\u001b[0m   exasol                      Exasol database                                      database   []   \n",
      "\u001b[36;1m81641c94-a3a7-4d3e-9ea8-bdf79bdd3b06\u001b[0m   minio                       MinIO                                                file       []   \n",
      "\u001b[36;1m81bafdbd-b7c6-45c5-a4fd-6ec135f66f4e\u001b[0m   assetfiles                  Asset Files                                          file       []   \n",
      "\u001b[36;1m82696f1d-600c-4f78-a03c-d8349ea1976f\u001b[0m   derby                       Apache Derby                                         database   []   \n",
      "\u001b[36;1m83da8a63-ffe3-4aa0-9127-adb5331c19cc\u001b[0m   hdfs-watson                 HDFS via Execution Engine for Hadoop                 file       []   \n",
      "\u001b[36;1m895507b6-f23e-40b2-b40a-5414fc9bd2ca\u001b[0m   hdfs-analyticsengine        IBM Analytics Engine HDFS via the WebHDFS API        file       []   \n",
      "\u001b[36;1m8b8fcd6d-8f95-49c7-8195-c72c95c9a84b\u001b[0m   oracle-amazon               Amazon RDS for Oracle database                       database   []   \n",
      "\u001b[36;1m8c1a4480-1c29-4b33-9086-9cb799d7b157\u001b[0m   db2                         IBM Db2 database                                     database   []   \n",
      "\u001b[36;1m8e65204d-6156-49e7-96e5-d635b2aa05f6\u001b[0m   mongodb-ibmcloud            Databases for MongoDB database                       database   []   \n",
      "\u001b[36;1m933152db-99e1-453a-8ce5-ae0e6714d1a9\u001b[0m   bigquery                    Google BigQuery                                      database   []   \n",
      "\u001b[36;1m9493d830-882b-445e-96c7-8e4c635a1a5b\u001b[0m   postgresql-amazon           Amazon RDS for PostgreSQL database                   database   []   \n",
      "\u001b[36;1m9525f6a6-1c44-4925-b1a0-9a2b731518cb\u001b[0m   db2hosted                   IBM Db2 hosted database                              database   []   \n",
      "\u001b[36;1m96ec8f53-a818-4ba1-bd8d-c86cc33a0b45\u001b[0m   teradata                    Teradata database                                    database   []   \n",
      "\u001b[36;1m971223d3-093e-4957-8af9-a83181ee9dd9\u001b[0m   oracle                      Oracle database                                      database   []   \n",
      "\u001b[36;1m99c3c67b-2133-4006-81f6-2b375a0048a3\u001b[0m   box                         Box file sharing, storage, and collaboration         file       []   \n",
      "\u001b[36;1m9a22e0af-8d19-4c4e-9aea-1d733e81315b\u001b[0m   azureblobstorage            Microsoft Azure Blob Storage                         file       []   \n",
      "\u001b[36;1m9aa630f2-efc4-4d54-b8cb-254f31405b78\u001b[0m   mysql-amazon                Amazon RDS for MySQL database                        database   []   \n",
      "\u001b[36;1m9ebc33eb-8c01-43fd-be1e-7202cf5c2c82\u001b[0m   tableau                     Tableau                                              file       []   \n",
      "\u001b[36;1m9f30e3c3-b854-4144-b5c3-98b7a835dc79\u001b[0m   volumes                     Storage volume                                       file       []   \n",
      "\u001b[36;1ma0b1d14a-4767-404c-aac1-4ce0e62818c3\u001b[0m   amazons3                    Amazon Simple Storage Service (S3)                   file       []   \n",
      "\u001b[36;1me375c0ae-cba9-47fc-baf7-523bef88c09e\u001b[0m   azuresql                    Microsoft Azure SQL Database                         database   []   \n",
      "\u001b[36;1mb2cc3dc2-aff7-4a80-8f80-5e8c5703e9d2\u001b[0m   mysql                       MySQL database                                       database   []   \n",
      "\u001b[36;1mc10e5224-f17d-4524-844f-e97b1305e489\u001b[0m   hdfs-apache                 Apache HDFS via the WebHDFS API                      file       []   \n",
      "\u001b[36;1mc2a82a72-0711-4376-a468-4e9951cabf22\u001b[0m   netezza                     IBM Netezza Performance Server database              database   []   \n",
      "\u001b[36;1mc42bcde4-4345-4fb4-b7da-c8c557527c8b\u001b[0m   db2eventstore               IBM Db2 Event Store                                  database   []   \n",
      "\u001b[36;1mc6fb9293-51eb-4f2b-b20c-4dafa3136744\u001b[0m   mongodb                     MongoDB database                                     database   []   \n",
      "\u001b[36;1mc8d3eab2-25f6-4a90-8e10-0b4226693c45\u001b[0m   db2zos                      IBM Db2 database for z/OS                            database   []   \n",
      "\u001b[36;1mc8f3d379-78b2-4bad-969d-2e928277377e\u001b[0m   tm1odata                    Planning Analytics                                   generic    []   \n",
      "\u001b[36;1me6ff8c10-4199-4b58-9a93-749411eafacd\u001b[0m   cassandra                   Apache Cassandra database                            database   []   \n",
      "\u001b[36;1mcfdcb449-1204-44ba-baa6-9a8a878e6aa7\u001b[0m   dashdb                      Db2 Warehouse                                        database   []   \n",
      "\u001b[36;1md5dbc62f-7c4c-4d49-8eb2-dab6cef2969c\u001b[0m   ftp                         Remote file system (FTP)                             file       []   \n",
      "\u001b[36;1mfa31fba9-10e9-32d7-968c-f677fffd1e3b\u001b[0m   db2-datastage               Connection to a Db2 database for the DataStage 'D…   database   []   \n",
      "\u001b[36;1mdd22f798-8c9b-41fa-841e-d66cbdf50722\u001b[0m   oracle-datastage            Connection to an Oracle database for the DataStag…   generic    []   \n",
      "\u001b[36;1me1c23729-99d8-4407-b3df-336e33ffdc82\u001b[0m   postgresql                  PostgreSQL database                                  database   []   \n",
      "\u001b[36;1me278eff1-a7c4-4d60-9a02-bde1bb1d26ef\u001b[0m   greenplum                   Greenplum database                                   database   []   \n",
      "\u001b[36;1me59b1c36-6f30-4879-9f74-7e81dde4cca6\u001b[0m   genericjdbc                 Generic JDBC database                                database   []   \n",
      "\u001b[36;1mf13bc9b7-4a46-48f4-99c3-01d943334ba7\u001b[0m   kafka-datastage             Connection to an Apache Kafka real-time processin…   generic    []   \n",
      "\u001b[36;1mf3ee04c2-7c3b-4534-b300-eb6ef701646d\u001b[0m   mariadb                     MariaDB                                              database   []   \n",
      "\u001b[36;1mfc183fe5-cfe7-40a5-b473-e23ca025f05f\u001b[0m   spss                        IBM SPSS Analytic Server                             database   []   \n"
     ]
    }
   ],
   "source": [
    "! cpdctl connection datasource-type list"
   ]
  },
  {
   "cell_type": "code",
   "execution_count": 52,
   "metadata": {
    "id": "55de5ab2-40cd-43af-884e-87fafff7d0ab",
    "scrolled": true,
    "tags": []
   },
   "outputs": [
    {
     "name": "stdout",
     "output_type": "stream",
     "text": [
      "...\n",
      "\u001b[1mID\u001b[0m                                     \u001b[1mName\u001b[0m               \u001b[1mDescription\u001b[0m                                          \u001b[1mType\u001b[0m   \u001b[1mTags\u001b[0m   \n",
      "\u001b[36;1ma0b1d14a-4767-404c-aac1-4ce0e62818c3\u001b[0m   amazons3           Amazon Simple Storage Service (S3)                   file   []   \n",
      "\u001b[36;1m81bafdbd-b7c6-45c5-a4fd-6ec135f66f4e\u001b[0m   assetfiles         Asset Files                                          file   []   \n",
      "\u001b[36;1m9a22e0af-8d19-4c4e-9aea-1d733e81315b\u001b[0m   azureblobstorage   Microsoft Azure Blob Storage                         file   []   \n",
      "\u001b[36;1m6863060d-97c4-4653-abbe-958bde533f8c\u001b[0m   azuredatalake      Microsoft Azure Data Lake Store via the WebHDFS A…   file   []   \n",
      "\u001b[36;1m2a7b4fa1-c770-4807-8871-a3c5def5aa2d\u001b[0m   azurefilestorage   Microsoft Azure File Storage                         file   []   \n",
      "Next token: 'https://internal-nginx-svc/v2/datasource_types?offset=5&limit=5&sort=entity.name'\n"
     ]
    }
   ],
   "source": [
    "! cpdctl connection datasource-type list --sort entity.name --limit 5"
   ]
  },
  {
   "cell_type": "code",
   "execution_count": 53,
   "metadata": {
    "id": "9e175528-86fc-4ed7-94c7-9bfb99c8bbde",
    "tags": []
   },
   "outputs": [
    {
     "name": "stdout",
     "output_type": "stream",
     "text": [
      "...\n",
      "\u001b[1mID\u001b[0m                                     \u001b[1mName\u001b[0m               \u001b[1mDescription\u001b[0m                       \u001b[1mType\u001b[0m       \u001b[1mTags\u001b[0m   \n",
      "\u001b[36;1m0fd83fe5-8995-4e2e-a1be-679bb8813a6d\u001b[0m   hive               Apache Hive database              database   []   \n",
      "\u001b[36;1m48695e79-6279-474a-b539-342625d3dfc2\u001b[0m   sqlserver          Microsoft SQL Server database     database   []   \n",
      "\u001b[36;1m6bcaf300-30b3-11eb-adc1-0242ac120002\u001b[0m   sqlquery           IBM SQL Query                     database   []   \n",
      "\u001b[36;1m8b8fcd6d-8f95-49c7-8195-c72c95c9a84b\u001b[0m   oracle-amazon      Amazon RDS for Oracle database    database   []   \n",
      "\u001b[36;1m8c1a4480-1c29-4b33-9086-9cb799d7b157\u001b[0m   db2                IBM Db2 database                  database   []   \n",
      "\u001b[36;1m8e65204d-6156-49e7-96e5-d635b2aa05f6\u001b[0m   mongodb-ibmcloud   Databases for MongoDB database    database   []   \n",
      "\u001b[36;1m971223d3-093e-4957-8af9-a83181ee9dd9\u001b[0m   oracle             Oracle database                   database   []   \n",
      "\u001b[36;1mc10e5224-f17d-4524-844f-e97b1305e489\u001b[0m   hdfs-apache        Apache HDFS via the WebHDFS API   file       []   \n",
      "\u001b[36;1mc6fb9293-51eb-4f2b-b20c-4dafa3136744\u001b[0m   mongodb            MongoDB database                  database   []   \n",
      "\u001b[36;1mcfdcb449-1204-44ba-baa6-9a8a878e6aa7\u001b[0m   dashdb             Db2 Warehouse                     database   []   \n",
      "\u001b[36;1me59b1c36-6f30-4879-9f74-7e81dde4cca6\u001b[0m   genericjdbc        Generic JDBC database             database   []   \n"
     ]
    }
   ],
   "source": [
    "! cpdctl connection datasource-type list --entity-environment \"private\" --entity-product \"igc\""
   ]
  },
  {
   "cell_type": "code",
   "execution_count": 54,
   "metadata": {
    "id": "d747af7b-4eb6-4839-a236-592968c090bc",
    "tags": []
   },
   "outputs": [
    {
     "name": "stdout",
     "output_type": "stream",
     "text": [
      "...\n",
      "\u001b[1mID\u001b[0m                                     \u001b[1mName\u001b[0m                        \u001b[1mDescription\u001b[0m                                          \u001b[1mType\u001b[0m       \u001b[1mTags\u001b[0m   \n",
      "\u001b[36;1m029e5d1c-ba73-4b09-b742-14c3a39b6cf9\u001b[0m   informix                    IBM Informix database                                database   []   \n",
      "\u001b[36;1m048ed1bf-516c-46f0-ae90-fa3349d8bc1c\u001b[0m   postgresql-ibmcloud         Databases for PostgreSQL database                    database   []   \n",
      "\u001b[36;1m05b7f0ea-6ae4-45e2-a455-cc280f110825\u001b[0m   googlecloudstorage          Google Cloud Storage                                 file       []   \n",
      "\u001b[36;1m05c58384-862e-4597-b19a-c71ea7e760bc\u001b[0m   impala                      Cloudera Impala database                             database   []   \n",
      "\u001b[36;1m06847b16-07b4-4415-a924-c63d11a17aa1\u001b[0m   salesforce                  Salesforce.com                                       database   []   \n",
      "\u001b[36;1m0bd5946b-6fcb-4253-bf76-48b362d24a89\u001b[0m   datastax-ibmcloud           DataStax on IBM Cloud database                       database   []   \n",
      "\u001b[36;1m0c431748-2572-11ea-978f-2e728ce88125\u001b[0m   cosmos                      Microsoft Azure Cosmos DB                            file       []   \n",
      "\u001b[36;1m0ca92c3d-0e46-3b42-a573-77958d53c9be\u001b[0m   odbc-datastage              Connection to a database using the ODBC applicati…   database   []   \n",
      "\u001b[36;1m0cd4b64c-b485-47ed-a8c4-329c25412de3\u001b[0m   mysql-compose               Compose for MySQL database                           database   []   \n",
      "\u001b[36;1m0fd83fe5-8995-4e2e-a1be-679bb8813a6d\u001b[0m   hive                        Apache Hive database                                 database   []   \n",
      "\u001b[36;1m11f3029d-a1cf-4c4d-b8e7-64422fa54a94\u001b[0m   cognos-analytics            Cognos Analytics                                     file       []   \n",
      "\u001b[36;1m123e4263-dd25-44e5-8282-cf1b2eeea9bd\u001b[0m   cassandra-datastage         Cassandra Connector for DataStage                    generic    []   \n",
      "\u001b[36;1m13e8b257-1dff-49ed-bac8-7eca796a40b3\u001b[0m   hive-watson                 Hive via Execution Engine for Hadoop                 database   []   \n",
      "\u001b[36;1m193a97c1-4475-4a19-b90c-295c4fdc6517\u001b[0m   bluemixcloudobjectstorage   Cloud Object Storage service on IBM Cloud. Offers…   file       []   \n",
      "\u001b[36;1m200d71ab-24a5-4b3d-85a4-a365bdd0d4cb\u001b[0m   elasticsearch               Elasticsearch                                        file       []   \n",
      "\u001b[36;1m21364ca9-5b2d-323e-bd4d-59ba961f75fb\u001b[0m   webspheremq-datastage       MQ connection                                        database   []   \n",
      "\u001b[36;1m27c3e1b0-b7d2-4e32-9511-1b8aaa197de0\u001b[0m   odata                       OData                                                generic    []   \n",
      "\u001b[36;1m2a7b4fa1-c770-4807-8871-a3c5def5aa2d\u001b[0m   azurefilestorage            Microsoft Azure File Storage                         file       []   \n",
      "\u001b[36;1m2bdd9544-f13a-47b6-b6c3-f5964a08066a\u001b[0m   bigsql                      IBM Db2 Big SQL                                      database   []   \n",
      "\u001b[36;1m2fc1372f-b58c-4d45-b0c4-dfb32a1c78a5\u001b[0m   snowflake                   Snowflake database                                   database   []   \n",
      "\u001b[36;1m31170994-f54c-4148-9c5a-807832fa1d07\u001b[0m   redshift                    Amazon Redshift database                             database   []   \n",
      "\u001b[36;1m335cbfe7-e495-474e-8ad7-78ad63c05091\u001b[0m   db2iseries                  IBM Db2 database for i                               database   []   \n",
      "\u001b[36;1m38714ac2-8f66-4a8c-9b40-806ffb61c759\u001b[0m   generics3                   A storage service compatible with the Amazon S3 A…   file       []   \n",
      "\u001b[36;1m39a78d59-ef34-4108-8e46-4460433a3b99\u001b[0m   dvm                         IBM Data Virtualization Manager for z/OS             database   []   \n",
      "\u001b[36;1m3a00dbd2-2540-4976-afc2-5fc59f68ed35\u001b[0m   salesforce-datastage        Connection to a Salesforce.com enterprise applica…   generic    []   \n",
      "\u001b[36;1m4210c294-8b0f-46b4-bcdc-1c6ada2b7e6b\u001b[0m   http                        Hypertext Transfer Protocol (HTTP)                   file       []   \n",
      "\u001b[36;1m44e904b5-0cb2-4d8e-a5c0-c48bc3e24fdd\u001b[0m   cloudant                    IBM Cloudant                                         file       []   \n",
      "\u001b[36;1m4656c47e-3ada-467e-a541-466c0c55df05\u001b[0m   saphana                     SAP HANA database                                    database   []   \n",
      "\u001b[36;1m48695e79-6279-474a-b539-342625d3dfc2\u001b[0m   sqlserver                   Microsoft SQL Server database                        database   []   \n",
      "\u001b[36;1m49079262-fac2-4762-99d1-452c1caf6b49\u001b[0m   sybaseiq                    SAP IQ database                                      database   []   \n",
      "\u001b[36;1m49686982-255f-423a-a5de-d825bfc0abe3\u001b[0m   dv                          IBM Data Virtualization                              database   []   \n",
      "\u001b[36;1m4bf2dedd-3809-4443-96ec-b7bc5726c07b\u001b[0m   cloudobjectstorage          Object storage for workloads requiring AWS SDKs a…   file       []   \n",
      "\u001b[36;1m506039fb-802f-4ef2-a2bf-c1682e9c8aa2\u001b[0m   db2cloud                    IBM Db2 fully-managed cloud SQL database             database   []   \n",
      "\u001b[36;1m507b850c-f4a1-41d7-ad64-4182a1264014\u001b[0m   dropbox                     Dropbox secure file sharing and storage service      file       []   \n",
      "\u001b[36;1m526f54ea-cde0-4818-a0b6-749efd35ccfa\u001b[0m   impala-watson               Impala via Execution Engine for Hadoop               database   []   \n",
      "\u001b[36;1m63e2d853-e650-3b59-91a5-95e7bf725b9b\u001b[0m   netezza-datastage           Connection to a Netezza Performance Server databa…   database   []   \n",
      "\u001b[36;1m6863060d-97c4-4653-abbe-958bde533f8c\u001b[0m   azuredatalake               Microsoft Azure Data Lake Store via the WebHDFS A…   file       []   \n",
      "\u001b[36;1m693c2a02-39d1-4394-9426-fcdcfc4f3d7a\u001b[0m   googlepubsub                Google Cloud Pub/Sub                                 file       []   \n",
      "\u001b[36;1m6976a3fc-b2ad-4db6-818c-ea049cac309d\u001b[0m   sybase                      SAP ASE database                                     database   []   \n",
      "\u001b[36;1m69857d6b-2be8-4a59-8a70-723405f09708\u001b[0m   looker                      Looker                                               file       []   \n",
      "\u001b[36;1m6bcaf300-30b3-11eb-adc1-0242ac120002\u001b[0m   sqlquery                    IBM SQL Query                                        database   []   \n",
      "\u001b[36;1m79a0a133-cbb6-48d0-a3b0-0956a9655401\u001b[0m   sapodata                    SAP OData                                            generic    []   \n",
      "\u001b[36;1m8136a39f-465f-43a3-a606-ce238fb19116\u001b[0m   exasol                      Exasol database                                      database   []   \n",
      "\u001b[36;1m81641c94-a3a7-4d3e-9ea8-bdf79bdd3b06\u001b[0m   minio                       MinIO                                                file       []   \n",
      "\u001b[36;1m81bafdbd-b7c6-45c5-a4fd-6ec135f66f4e\u001b[0m   assetfiles                  Asset Files                                          file       []   \n",
      "\u001b[36;1m82696f1d-600c-4f78-a03c-d8349ea1976f\u001b[0m   derby                       Apache Derby                                         database   []   \n",
      "\u001b[36;1m83da8a63-ffe3-4aa0-9127-adb5331c19cc\u001b[0m   hdfs-watson                 HDFS via Execution Engine for Hadoop                 file       []   \n",
      "\u001b[36;1m895507b6-f23e-40b2-b40a-5414fc9bd2ca\u001b[0m   hdfs-analyticsengine        IBM Analytics Engine HDFS via the WebHDFS API        file       []   \n",
      "\u001b[36;1m8b8fcd6d-8f95-49c7-8195-c72c95c9a84b\u001b[0m   oracle-amazon               Amazon RDS for Oracle database                       database   []   \n",
      "\u001b[36;1m8c1a4480-1c29-4b33-9086-9cb799d7b157\u001b[0m   db2                         IBM Db2 database                                     database   []   \n",
      "\u001b[36;1m8e65204d-6156-49e7-96e5-d635b2aa05f6\u001b[0m   mongodb-ibmcloud            Databases for MongoDB database                       database   []   \n",
      "\u001b[36;1m933152db-99e1-453a-8ce5-ae0e6714d1a9\u001b[0m   bigquery                    Google BigQuery                                      database   []   \n",
      "\u001b[36;1m9493d830-882b-445e-96c7-8e4c635a1a5b\u001b[0m   postgresql-amazon           Amazon RDS for PostgreSQL database                   database   []   \n",
      "\u001b[36;1m9525f6a6-1c44-4925-b1a0-9a2b731518cb\u001b[0m   db2hosted                   IBM Db2 hosted database                              database   []   \n",
      "\u001b[36;1m96ec8f53-a818-4ba1-bd8d-c86cc33a0b45\u001b[0m   teradata                    Teradata database                                    database   []   \n",
      "\u001b[36;1m971223d3-093e-4957-8af9-a83181ee9dd9\u001b[0m   oracle                      Oracle database                                      database   []   \n",
      "\u001b[36;1m99c3c67b-2133-4006-81f6-2b375a0048a3\u001b[0m   box                         Box file sharing, storage, and collaboration         file       []   \n",
      "\u001b[36;1m9a22e0af-8d19-4c4e-9aea-1d733e81315b\u001b[0m   azureblobstorage            Microsoft Azure Blob Storage                         file       []   \n",
      "\u001b[36;1m9aa630f2-efc4-4d54-b8cb-254f31405b78\u001b[0m   mysql-amazon                Amazon RDS for MySQL database                        database   []   \n",
      "\u001b[36;1m9ebc33eb-8c01-43fd-be1e-7202cf5c2c82\u001b[0m   tableau                     Tableau                                              file       []   \n",
      "\u001b[36;1m9f30e3c3-b854-4144-b5c3-98b7a835dc79\u001b[0m   volumes                     Storage volume                                       file       []   \n",
      "\u001b[36;1ma0b1d14a-4767-404c-aac1-4ce0e62818c3\u001b[0m   amazons3                    Amazon Simple Storage Service (S3)                   file       []   \n",
      "\u001b[36;1me375c0ae-cba9-47fc-baf7-523bef88c09e\u001b[0m   azuresql                    Microsoft Azure SQL Database                         database   []   \n",
      "\u001b[36;1mb2cc3dc2-aff7-4a80-8f80-5e8c5703e9d2\u001b[0m   mysql                       MySQL database                                       database   []   \n",
      "\u001b[36;1mc10e5224-f17d-4524-844f-e97b1305e489\u001b[0m   hdfs-apache                 Apache HDFS via the WebHDFS API                      file       []   \n",
      "\u001b[36;1mc2a82a72-0711-4376-a468-4e9951cabf22\u001b[0m   netezza                     IBM Netezza Performance Server database              database   []   \n",
      "\u001b[36;1mc42bcde4-4345-4fb4-b7da-c8c557527c8b\u001b[0m   db2eventstore               IBM Db2 Event Store                                  database   []   \n",
      "\u001b[36;1mc6fb9293-51eb-4f2b-b20c-4dafa3136744\u001b[0m   mongodb                     MongoDB database                                     database   []   \n",
      "\u001b[36;1mc8d3eab2-25f6-4a90-8e10-0b4226693c45\u001b[0m   db2zos                      IBM Db2 database for z/OS                            database   []   \n",
      "\u001b[36;1mc8f3d379-78b2-4bad-969d-2e928277377e\u001b[0m   tm1odata                    Planning Analytics                                   generic    []   \n",
      "\u001b[36;1me6ff8c10-4199-4b58-9a93-749411eafacd\u001b[0m   cassandra                   Apache Cassandra database                            database   []   \n",
      "\u001b[36;1mcfdcb449-1204-44ba-baa6-9a8a878e6aa7\u001b[0m   dashdb                      Db2 Warehouse                                        database   []   \n",
      "\u001b[36;1md5dbc62f-7c4c-4d49-8eb2-dab6cef2969c\u001b[0m   ftp                         Remote file system (FTP)                             file       []   \n",
      "\u001b[36;1mfa31fba9-10e9-32d7-968c-f677fffd1e3b\u001b[0m   db2-datastage               Connection to a Db2 database for the DataStage 'D…   database   []   \n",
      "\u001b[36;1mdd22f798-8c9b-41fa-841e-d66cbdf50722\u001b[0m   oracle-datastage            Connection to an Oracle database for the DataStag…   generic    []   \n",
      "\u001b[36;1me1c23729-99d8-4407-b3df-336e33ffdc82\u001b[0m   postgresql                  PostgreSQL database                                  database   []   \n",
      "\u001b[36;1me278eff1-a7c4-4d60-9a02-bde1bb1d26ef\u001b[0m   greenplum                   Greenplum database                                   database   []   \n",
      "\u001b[36;1me59b1c36-6f30-4879-9f74-7e81dde4cca6\u001b[0m   genericjdbc                 Generic JDBC database                                database   []   \n",
      "\u001b[36;1mf13bc9b7-4a46-48f4-99c3-01d943334ba7\u001b[0m   kafka-datastage             Connection to an Apache Kafka real-time processin…   generic    []   \n",
      "\u001b[36;1mf3ee04c2-7c3b-4534-b300-eb6ef701646d\u001b[0m   mariadb                     MariaDB                                              database   []   \n",
      "\u001b[36;1mfc183fe5-cfe7-40a5-b473-e23ca025f05f\u001b[0m   spss                        IBM SPSS Analytic Server                             database   []   \n"
     ]
    }
   ],
   "source": [
    "! cpdctl connection datasource-type list --connection-properties true --interaction-properties true --actions true"
   ]
  },
  {
   "cell_type": "markdown",
   "metadata": {
    "id": "08b8a218-c993-4034-b8c1-82af3cb57c82"
   },
   "source": [
    "### 3.2 Get datasource type"
   ]
  },
  {
   "cell_type": "code",
   "execution_count": 55,
   "metadata": {
    "id": "e287f3c1-fd1e-47ce-a4a8-06e6a8524d4d",
    "tags": []
   },
   "outputs": [
    {
     "name": "stdout",
     "output_type": "stream",
     "text": [
      "...\n",
      "\u001b[1m\u001b[0m               \u001b[1m\u001b[0m   \n",
      "\u001b[36;1mID:\u001b[0m            cfdcb449-1204-44ba-baa6-9a8a878e6aa7   \n",
      "\u001b[36;1mName:\u001b[0m          dashdb   \n",
      "\u001b[36;1mDescription:\u001b[0m   Db2 Warehouse   \n",
      "\u001b[36;1mType:\u001b[0m          database   \n",
      "\u001b[36;1mTags:\u001b[0m          []   \n"
     ]
    }
   ],
   "source": [
    "! cpdctl connection datasource-type get --datasource-type dashdb"
   ]
  },
  {
   "cell_type": "code",
   "execution_count": 56,
   "metadata": {
    "id": "d949f65a-9b5c-48e8-9ecf-fd4fac7a9221",
    "tags": []
   },
   "outputs": [
    {
     "name": "stdout",
     "output_type": "stream",
     "text": [
      "...\n",
      "\u001b[1m\u001b[0m               \u001b[1m\u001b[0m   \n",
      "\u001b[36;1mID:\u001b[0m            cfdcb449-1204-44ba-baa6-9a8a878e6aa7   \n",
      "\u001b[36;1mName:\u001b[0m          dashdb   \n",
      "\u001b[36;1mDescription:\u001b[0m   Db2 Warehouse   \n",
      "\u001b[36;1mType:\u001b[0m          database   \n",
      "\u001b[36;1mTags:\u001b[0m          []   \n"
     ]
    }
   ],
   "source": [
    "! cpdctl connection datasource-type get --datasource-type dashdb --connection-properties true --interaction-properties true"
   ]
  },
  {
   "cell_type": "code",
   "execution_count": 57,
   "metadata": {
    "id": "ee8b4703-0861-4172-820e-c9664ab57a53",
    "tags": []
   },
   "outputs": [
    {
     "name": "stdout",
     "output_type": "stream",
     "text": [
      "...\n",
      "\u001b[1m\u001b[0m               \u001b[1m\u001b[0m   \n",
      "\u001b[36;1mID:\u001b[0m            8c1a4480-1c29-4b33-9086-9cb799d7b157   \n",
      "\u001b[36;1mName:\u001b[0m          db2   \n",
      "\u001b[36;1mDescription:\u001b[0m   IBM Db2 database   \n",
      "\u001b[36;1mType:\u001b[0m          database   \n",
      "\u001b[36;1mTags:\u001b[0m          []   \n"
     ]
    }
   ],
   "source": [
    "! cpdctl connection datasource-type get --datasource-type db2"
   ]
  },
  {
   "cell_type": "code",
   "execution_count": 58,
   "metadata": {
    "id": "5d72f370-aa96-49a8-97dd-1234aeb6185c",
    "tags": []
   },
   "outputs": [
    {
     "name": "stdout",
     "output_type": "stream",
     "text": [
      "...\n",
      "\u001b[1m\u001b[0m               \u001b[1m\u001b[0m   \n",
      "\u001b[36;1mID:\u001b[0m            8c1a4480-1c29-4b33-9086-9cb799d7b157   \n",
      "\u001b[36;1mName:\u001b[0m          db2   \n",
      "\u001b[36;1mDescription:\u001b[0m   IBM Db2 database   \n",
      "\u001b[36;1mType:\u001b[0m          database   \n",
      "\u001b[36;1mTags:\u001b[0m          []   \n"
     ]
    }
   ],
   "source": [
    "! cpdctl connection datasource-type get --datasource-type db2 --connection-properties true --interaction-properties true"
   ]
  },
  {
   "cell_type": "code",
   "execution_count": null,
   "metadata": {
    "id": "953ecc9f-5675-4f5e-84fa-2bc3a2930c72"
   },
   "outputs": [],
   "source": []
  }
 ],
 "metadata": {
  "kernelspec": {
   "display_name": "Python 3.9",
   "language": "python",
   "name": "python3"
  },
  "language_info": {
   "codemirror_mode": {
    "name": "ipython",
    "version": 3
   },
   "file_extension": ".py",
   "mimetype": "text/x-python",
   "name": "python",
   "nbconvert_exporter": "python",
   "pygments_lexer": "ipython3",
   "version": "3.9.7"
  }
 },
 "nbformat": 4,
 "nbformat_minor": 4
}
