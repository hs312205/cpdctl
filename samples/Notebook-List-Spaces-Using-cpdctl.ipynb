{
 "cells": [
  {
   "cell_type": "markdown",
   "metadata": {
    "id": "cdbd2469-ec04-4c2d-9425-76482f9070dc"
   },
   "source": [
    "## Import libraires needed\n",
    "Import the following libraries:"
   ]
  },
  {
   "cell_type": "code",
   "execution_count": 1,
   "metadata": {
    "id": "55415324-218e-44a3-bf2d-c1145bee638c",
    "tags": []
   },
   "outputs": [],
   "source": [
    "import base64\n",
    "import json\n",
    "import os\n",
    "import requests\n",
    "import platform\n",
    "import tarfile\n",
    "import zipfile\n",
    "from IPython.core.display import display, HTML"
   ]
  },
  {
   "cell_type": "markdown",
   "metadata": {
    "id": "93b532d1-4cb3-4938-b8dd-f86ff2523436"
   },
   "source": [
    "##  1. Installing and configuring CPDCTL <a class=\"anchor\" id=\"part1\"></a>"
   ]
  },
  {
   "cell_type": "markdown",
   "metadata": {
    "id": "d03201ab-afb3-4d14-9298-6cfe1f289c28"
   },
   "source": [
    "Download the binary and then display the version number:"
   ]
  },
  {
   "cell_type": "code",
   "execution_count": 2,
   "metadata": {
    "id": "628516ff-bec0-4d0b-b009-9da31fa8cd01",
    "tags": []
   },
   "outputs": [
    {
     "data": {
      "text/html": [
       "<code>cpdctl</code> binary downloaded from: <a href=\"https://github.com/IBM/cpdctl/releases/download/v1.1.132/cpdctl_linux_amd64.tar.gz\">cpdctl_linux_amd64.tar.gz</a>"
      ],
      "text/plain": [
       "<IPython.core.display.HTML object>"
      ]
     },
     "metadata": {},
     "output_type": "display_data"
    }
   ],
   "source": [
    "PLATFORM = platform.system().lower()\n",
    "CPDCTL_ARCH = \"{}_amd64\".format(PLATFORM)\n",
    "CPDCTL_RELEASES_URL=\"https://api.github.com/repos/IBM/cpdctl/releases\"\n",
    "CWD = os.getcwd()\n",
    "PATH = os.environ['PATH']\n",
    "CPD_CONFIG = os.path.join(CWD, '.cpdctl.config.yml')\n",
    "\n",
    "response = requests.get(CPDCTL_RELEASES_URL)\n",
    "assets = response.json()[0]['assets']\n",
    "platform_asset = next(a for a in assets if CPDCTL_ARCH in a['name'])\n",
    "cpdctl_url = platform_asset['url']\n",
    "cpdctl_file_name = platform_asset['name']\n",
    "        \n",
    "response = requests.get(cpdctl_url, headers={'Accept': 'application/octet-stream'})\n",
    "with open(cpdctl_file_name, 'wb') as f:\n",
    "    f.write(response.content)\n",
    "    \n",
    "display(HTML('<code>cpdctl</code> binary downloaded from: <a href=\"{}\">{}</a>'.format(platform_asset['browser_download_url'], platform_asset['name'])))"
   ]
  },
  {
   "cell_type": "code",
   "execution_count": 3,
   "metadata": {
    "id": "1a3eb826-0e11-4de5-bd73-f903ef24bd36",
    "tags": []
   },
   "outputs": [],
   "source": [
    "%%capture\n",
    "\n",
    "%env PATH={CWD}:{PATH}\n",
    "%env CPD_CONFIG={CPD_CONFIG}"
   ]
  },
  {
   "cell_type": "code",
   "execution_count": 4,
   "metadata": {
    "id": "48c6e82d-2db1-4a05-b715-2c0e66446bf7",
    "tags": []
   },
   "outputs": [
    {
     "name": "stdout",
     "output_type": "stream",
     "text": [
      "cpdctl version: 1.1.132\n"
     ]
    }
   ],
   "source": [
    "if cpdctl_file_name.endswith('tar.gz'):\n",
    "    with tarfile.open(cpdctl_file_name, \"r:gz\") as tar:\n",
    "        tar.extractall()\n",
    "elif cpdctl_file_name.endswith('zip'):\n",
    "    with zipfile.ZipFile(cpdctl_file_name, 'r') as zf:\n",
    "        zf.extractall()\n",
    "\n",
    "if CPD_CONFIG and os.path.exists(CPD_CONFIG):\n",
    "    os.remove(CPD_CONFIG)\n",
    "    \n",
    "version_r = ! cpdctl version\n",
    "CPDCTL_VERSION = version_r.s\n",
    "\n",
    "print(\"cpdctl version: {}\".format(CPDCTL_VERSION))"
   ]
  },
  {
   "cell_type": "markdown",
   "metadata": {
    "id": "ca34f25a-6011-402d-9893-c774edd3dbbb"
   },
   "source": [
    "### 2  Adding CPD cluster configuration settings <a class=\"anchor\" id=\"part1.2\"></a>"
   ]
  },
  {
   "cell_type": "code",
   "execution_count": 5,
   "metadata": {
    "id": "1bf14c9b-c657-403e-956f-81300e462634",
    "tags": []
   },
   "outputs": [],
   "source": [
    "CPD_USER_NAME = 'dhshi'\n",
    "CPD_USER_PASSWORD = 'mypassword'\n",
    "CPD_URL = 'https://cpd-cpd-instance.apps.cp4d404ugi.cp.fyre.ibm.com'"
   ]
  },
  {
   "cell_type": "markdown",
   "metadata": {
    "id": "dcb31a35-cbd3-4cb1-96e3-e62ead3cf940"
   },
   "source": [
    "Add \"cpd_user\" user to the cpdctl configuration:"
   ]
  },
  {
   "cell_type": "code",
   "execution_count": 6,
   "metadata": {
    "id": "dddb4358-8d6a-426b-89ee-8d6971d4d6ed",
    "tags": []
   },
   "outputs": [],
   "source": [
    "! cpdctl config user set cpd_user --username {CPD_USER_NAME} --password {CPD_USER_PASSWORD}"
   ]
  },
  {
   "cell_type": "markdown",
   "metadata": {
    "id": "328e8a75-3c44-4154-9a56-51f68c291148"
   },
   "source": [
    "Add \"cpd\" cluster to the cpdctl configuration:"
   ]
  },
  {
   "cell_type": "code",
   "execution_count": 7,
   "metadata": {
    "id": "74896c21-dc88-4727-85f5-f365caed4b12",
    "tags": []
   },
   "outputs": [],
   "source": [
    "! cpdctl config profile set cpd --url {CPD_URL}"
   ]
  },
  {
   "cell_type": "markdown",
   "metadata": {
    "id": "97651d04-eb5a-4121-9eeb-eb21f4db4610"
   },
   "source": [
    "Add \"cpd\" context to the cpdctl configuration:"
   ]
  },
  {
   "cell_type": "code",
   "execution_count": 8,
   "metadata": {
    "id": "fa46b343-d6aa-49cc-bb99-00b2bb6b271e",
    "tags": []
   },
   "outputs": [],
   "source": [
    "! cpdctl config context set cpd --profile cpd --user cpd_user"
   ]
  },
  {
   "cell_type": "markdown",
   "metadata": {
    "id": "66a44468-e8fc-48c0-9702-5b6038a9f0d6"
   },
   "source": [
    "List available contexts:"
   ]
  },
  {
   "cell_type": "code",
   "execution_count": 9,
   "metadata": {
    "id": "df9db63e-de9e-4fa3-bef2-c8977eefc5ba",
    "tags": []
   },
   "outputs": [
    {
     "name": "stdout",
     "output_type": "stream",
     "text": [
      "\u001b[1mName\u001b[0m                          \u001b[1mProfile\u001b[0m                       \u001b[1mUser\u001b[0m                       \u001b[1mCurrent\u001b[0m   \n",
      "\u001b[36;1minClusterEnvironmentContext\u001b[0m   inClusterEnvironmentProfile   inClusterEnvironmentUser   *   \n"
     ]
    }
   ],
   "source": [
    "! cpdctl config context list"
   ]
  },
  {
   "cell_type": "markdown",
   "metadata": {
    "id": "c14b99a9-05a7-4289-9001-fbed85f156c9"
   },
   "source": [
    "Switch to the context you just created if it is not marked in the `Current` column:"
   ]
  },
  {
   "cell_type": "code",
   "execution_count": 10,
   "metadata": {
    "id": "772b03ff-3ede-4747-b020-bb40402fa229",
    "tags": []
   },
   "outputs": [
    {
     "name": "stdout",
     "output_type": "stream",
     "text": [
      "Switched to context \"inClusterEnvironmentContext\".\n"
     ]
    }
   ],
   "source": [
    "! cpdctl config context use inClusterEnvironmentContext"
   ]
  },
  {
   "cell_type": "markdown",
   "metadata": {
    "id": "0749a572-93a3-4010-94e6-32092598852b"
   },
   "source": [
    "List available spaces in context:"
   ]
  },
  {
   "cell_type": "code",
   "execution_count": 12,
   "metadata": {
    "id": "00055ca4-d83e-4196-bf47-a818e720aee6",
    "tags": []
   },
   "outputs": [
    {
     "name": "stdout",
     "output_type": "stream",
     "text": [
      "...\n",
      "\u001b[1mID\u001b[0m                                     \u001b[1mName\u001b[0m                                                 \u001b[1mCreated\u001b[0m                    \u001b[1mDescription\u001b[0m   \u001b[1mState\u001b[0m    \u001b[1mTags\u001b[0m   \n",
      "\u001b[36;1mf1c213be-597f-4c32-bcd5-9e4344ead75c\u001b[0m   AutoAI-TD-Sub-Deployment-Space                       2022-01-25T01:59:19.769Z                 active   []   \n",
      "\u001b[36;1m83de1cda-6129-4f97-a464-b71ec5224393\u001b[0m   r-shiny-test-space                                   2022-03-23T22:04:12.062Z                 active   []   \n",
      "\u001b[36;1mef5ae6e4-17be-4e46-af04-6a8f6ace3eae\u001b[0m   julian-test                                          2022-03-29T09:00:24.454Z                 active   []   \n",
      "\u001b[36;1mcd4e2877-1afc-4d02-a2cb-386020912e44\u001b[0m   openscale-express-path-00000000-0000-0000-0000-16…   2022-03-30T15:10:33.888Z                 active   []   \n",
      "\u001b[36;1m2e1d6881-c039-4894-8fa2-220a01c9d4af\u001b[0m   openscale-express-path-preprod-00000000-0000-0000…   2022-03-30T15:10:51.098Z                 active   []   \n",
      "\u001b[36;1me5a47063-9735-48fc-bd1a-45ed88ebf425\u001b[0m   cpdctl-samples-project-notebook-space-test           2022-04-03T21:28:09.195Z                 active   []   \n",
      "\u001b[36;1mf72913be-cf70-45c1-b3e0-55b3b916ce71\u001b[0m   Deployment1                                          2022-04-04T16:29:49.636Z                 active   []   \n",
      "\u001b[36;1mde8d69b0-850c-433c-aa5d-8afb9ee52bee\u001b[0m   test-analytics-project-git-ibm-sk-0                  2022-04-04T19:47:42.516Z                 active   []   \n",
      "\u001b[36;1mc9c08741-e30c-4483-8e7e-07b7b0c17486\u001b[0m   test-analytics-project-git-ibm-sk-1                  2022-04-04T20:51:03.761Z                 active   []   \n",
      "\u001b[36;1m17eca2fb-a77a-411e-ab35-9b31f85963ef\u001b[0m   openscale-express-path-00000000-0000-0000-0000-00…   2022-04-13T00:30:48.416Z                 active   []   \n",
      "\u001b[36;1maaf34e3b-3c2e-41f1-b4fd-3965d276e963\u001b[0m   openscale-express-path-preprod-00000000-0000-0000…   2022-04-13T00:31:05.134Z                 active   []   \n",
      "\u001b[36;1me4b1b710-300e-49d4-b69c-102a801aa19a\u001b[0m    watson-machine-learning-samples-space               2022-04-14T17:06:46.828Z                 active   []   \n"
     ]
    }
   ],
   "source": [
    "! cpdctl space list"
   ]
  },
  {
   "cell_type": "code",
   "execution_count": null,
   "metadata": {
    "id": "8971504f-94d7-4cd0-8201-feb6d1a0dce5"
   },
   "outputs": [],
   "source": []
  }
 ],
 "metadata": {
  "kernelspec": {
   "display_name": "Python 3.9",
   "language": "python",
   "name": "python3"
  },
  "language_info": {
   "codemirror_mode": {
    "name": "ipython",
    "version": 3
   },
   "file_extension": ".py",
   "mimetype": "text/x-python",
   "name": "python",
   "nbconvert_exporter": "python",
   "pygments_lexer": "ipython3",
   "version": "3.9.7"
  }
 },
 "nbformat": 4,
 "nbformat_minor": 4
}
