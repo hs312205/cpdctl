{
 "cells": [
  {
   "cell_type": "markdown",
   "metadata": {
    "id": "18fde386-9cb8-413f-90b7-47ec4469287b"
   },
   "source": [
    "# CPDCTL Samples for Notebooks and Environments in Spaces"
   ]
  },
  {
   "cell_type": "markdown",
   "metadata": {
    "id": "1d17843a-a31d-464f-8248-ba4049228cce"
   },
   "source": [
    "CPDCTL is a command-line interface (CLI) you can use to manage the lifecycle of notebooks. By using the notebook CLI, you can automate the flow for creating notebooks and running notebook jobs, as well as promoting notebooks from a project to a space.   \n",
    "\n",
    "This notebook begins by showing you how to install and configure CPDCTL and is then split up into three sections with examples of how to use the commands for:\n",
    "\n",
    "- Creating notebooks and running notebook jobs\n",
    "- Creating code packages and running code package jobs\n",
    "- Promoting notebooks from a project to a space"
   ]
  },
  {
   "cell_type": "markdown",
   "metadata": {
    "id": "e7619a49-2c3e-4f44-b7b5-01a44cbb3148"
   },
   "source": [
    "## Table of Contents"
   ]
  },
  {
   "cell_type": "markdown",
   "metadata": {
    "id": "2e6aa8db-bb20-4ca0-8f88-cfc9457cf061"
   },
   "source": [
    "[1. Installing and configuring CPDCTL](#part1)\n",
    "- [1.1 Installing the latest version of CPDCTL](#part1.1)\n",
    "- [1.2 Adding CPD cluster configuration settings](#part1.2)\n",
    "\n",
    "[2. Demo 1: Creating a notebook asset and running a job](#part2)\n",
    "- [2.1 Creating a notebook asset](#part2.1)\n",
    "- [2.2 Running a job](#part2.2)\n",
    "\n",
    "[3. Demo 2: Creating a code package asset and running a job](#part3)\n",
    "- [3.1 Creating a code package asset](#part3.1)\n",
    "- [3.2 Running a job](#part3.2)\n",
    "\n",
    "[4. Demo 3: Promoting a notebook from a project to a space](#part4)"
   ]
  },
  {
   "cell_type": "markdown",
   "metadata": {
    "id": "cdbd2469-ec04-4c2d-9425-76482f9070dc"
   },
   "source": [
    "## Before you begin\n",
    "Import the following libraries:"
   ]
  },
  {
   "cell_type": "code",
   "execution_count": 1,
   "metadata": {
    "id": "55415324-218e-44a3-bf2d-c1145bee638c",
    "tags": []
   },
   "outputs": [],
   "source": [
    "import base64\n",
    "import json\n",
    "import os\n",
    "import requests\n",
    "import platform\n",
    "import tarfile\n",
    "import zipfile\n",
    "from IPython.core.display import display, HTML"
   ]
  },
  {
   "cell_type": "markdown",
   "metadata": {
    "id": "93b532d1-4cb3-4938-b8dd-f86ff2523436"
   },
   "source": [
    "##  1. Installing and configuring CPDCTL <a class=\"anchor\" id=\"part1\"></a>"
   ]
  },
  {
   "cell_type": "markdown",
   "metadata": {
    "id": "94dd53ba-b676-4e2e-8b84-0d3e65610945"
   },
   "source": [
    "### 1.1 Installing the latest version of CPDCTL <a class=\"anchor\" id=\"part1.1\"></a>"
   ]
  },
  {
   "cell_type": "markdown",
   "metadata": {
    "id": "08a7472f-c9a3-466b-a9e2-75ee8e04d064"
   },
   "source": [
    "To use the notebook and environment CLI commands, you need to install CPDCTL. Download the binary from the [CPDCTL GitHub respository](https://github.com/IBM/cpdctl/releases)."
   ]
  },
  {
   "cell_type": "markdown",
   "metadata": {
    "id": "d03201ab-afb3-4d14-9298-6cfe1f289c28"
   },
   "source": [
    "Download the binary and then display the version number:"
   ]
  },
  {
   "cell_type": "code",
   "execution_count": 2,
   "metadata": {
    "id": "628516ff-bec0-4d0b-b009-9da31fa8cd01",
    "tags": []
   },
   "outputs": [
    {
     "data": {
      "text/html": [
       "<code>cpdctl</code> binary downloaded from: <a href=\"https://github.com/IBM/cpdctl/releases/download/v1.1.132/cpdctl_linux_amd64.tar.gz\">cpdctl_linux_amd64.tar.gz</a>"
      ],
      "text/plain": [
       "<IPython.core.display.HTML object>"
      ]
     },
     "metadata": {},
     "output_type": "display_data"
    }
   ],
   "source": [
    "PLATFORM = platform.system().lower()\n",
    "CPDCTL_ARCH = \"{}_amd64\".format(PLATFORM)\n",
    "CPDCTL_RELEASES_URL=\"https://api.github.com/repos/IBM/cpdctl/releases\"\n",
    "CWD = os.getcwd()\n",
    "PATH = os.environ['PATH']\n",
    "CPD_CONFIG = os.path.join(CWD, '.cpdctl.config.yml')\n",
    "\n",
    "response = requests.get(CPDCTL_RELEASES_URL)\n",
    "assets = response.json()[0]['assets']\n",
    "platform_asset = next(a for a in assets if CPDCTL_ARCH in a['name'])\n",
    "cpdctl_url = platform_asset['url']\n",
    "cpdctl_file_name = platform_asset['name']\n",
    "        \n",
    "response = requests.get(cpdctl_url, headers={'Accept': 'application/octet-stream'})\n",
    "with open(cpdctl_file_name, 'wb') as f:\n",
    "    f.write(response.content)\n",
    "    \n",
    "display(HTML('<code>cpdctl</code> binary downloaded from: <a href=\"{}\">{}</a>'.format(platform_asset['browser_download_url'], platform_asset['name'])))"
   ]
  },
  {
   "cell_type": "code",
   "execution_count": 3,
   "metadata": {
    "id": "1a3eb826-0e11-4de5-bd73-f903ef24bd36",
    "tags": []
   },
   "outputs": [],
   "source": [
    "%%capture\n",
    "\n",
    "%env PATH={CWD}:{PATH}\n",
    "%env CPD_CONFIG={CPD_CONFIG}"
   ]
  },
  {
   "cell_type": "code",
   "execution_count": 4,
   "metadata": {
    "id": "48c6e82d-2db1-4a05-b715-2c0e66446bf7",
    "tags": []
   },
   "outputs": [
    {
     "name": "stdout",
     "output_type": "stream",
     "text": [
      "cpdctl version: 1.1.132\n"
     ]
    }
   ],
   "source": [
    "if cpdctl_file_name.endswith('tar.gz'):\n",
    "    with tarfile.open(cpdctl_file_name, \"r:gz\") as tar:\n",
    "        tar.extractall()\n",
    "elif cpdctl_file_name.endswith('zip'):\n",
    "    with zipfile.ZipFile(cpdctl_file_name, 'r') as zf:\n",
    "        zf.extractall()\n",
    "\n",
    "if CPD_CONFIG and os.path.exists(CPD_CONFIG):\n",
    "    os.remove(CPD_CONFIG)\n",
    "    \n",
    "version_r = ! cpdctl version\n",
    "CPDCTL_VERSION = version_r.s\n",
    "\n",
    "print(\"cpdctl version: {}\".format(CPDCTL_VERSION))"
   ]
  },
  {
   "cell_type": "markdown",
   "metadata": {
    "id": "ca34f25a-6011-402d-9893-c774edd3dbbb"
   },
   "source": [
    "### 1.2  Adding CPD cluster configuration settings <a class=\"anchor\" id=\"part1.2\"></a>"
   ]
  },
  {
   "cell_type": "markdown",
   "metadata": {
    "id": "cc1c3654-0db4-4c31-a76b-a17cc63e4318"
   },
   "source": [
    "Before you can use CPDCTL, you need to add configuration settings. You only need to configure these settings once for the same IBM Cloud Pak for Data (CPD) user and cluster. Begin by entering your CPD credentials and the URL to the CPD cluster:"
   ]
  },
  {
   "cell_type": "code",
   "execution_count": 5,
   "metadata": {
    "id": "1bf14c9b-c657-403e-956f-81300e462634",
    "tags": []
   },
   "outputs": [],
   "source": [
    "CPD_USER_NAME = 'dhshi'\n",
    "CPD_USER_PASSWORD = 'passw0rd'\n",
    "CPD_URL = 'https://cpd-cpd-instance.apps.cp4d404ugi.cp.fyre.ibm.com'"
   ]
  },
  {
   "cell_type": "markdown",
   "metadata": {
    "id": "dcb31a35-cbd3-4cb1-96e3-e62ead3cf940"
   },
   "source": [
    "Add \"cpd_user\" user to the cpdctl configuration:"
   ]
  },
  {
   "cell_type": "code",
   "execution_count": 6,
   "metadata": {
    "id": "dddb4358-8d6a-426b-89ee-8d6971d4d6ed",
    "tags": []
   },
   "outputs": [],
   "source": [
    "! cpdctl config user set cpd_user --username {CPD_USER_NAME} --password {CPD_USER_PASSWORD}"
   ]
  },
  {
   "cell_type": "markdown",
   "metadata": {
    "id": "328e8a75-3c44-4154-9a56-51f68c291148"
   },
   "source": [
    "Add \"cpd\" cluster to the cpdctl configuration:"
   ]
  },
  {
   "cell_type": "code",
   "execution_count": 7,
   "metadata": {
    "id": "74896c21-dc88-4727-85f5-f365caed4b12",
    "tags": []
   },
   "outputs": [],
   "source": [
    "! cpdctl config profile set cpd --url {CPD_URL}"
   ]
  },
  {
   "cell_type": "markdown",
   "metadata": {
    "id": "97651d04-eb5a-4121-9eeb-eb21f4db4610"
   },
   "source": [
    "Add \"cpd\" context to the cpdctl configuration:"
   ]
  },
  {
   "cell_type": "code",
   "execution_count": 8,
   "metadata": {
    "id": "fa46b343-d6aa-49cc-bb99-00b2bb6b271e",
    "tags": []
   },
   "outputs": [],
   "source": [
    "! cpdctl config context set cpd --profile cpd --user cpd_user"
   ]
  },
  {
   "cell_type": "markdown",
   "metadata": {
    "id": "66a44468-e8fc-48c0-9702-5b6038a9f0d6"
   },
   "source": [
    "List available contexts:"
   ]
  },
  {
   "cell_type": "code",
   "execution_count": 9,
   "metadata": {
    "id": "df9db63e-de9e-4fa3-bef2-c8977eefc5ba",
    "tags": []
   },
   "outputs": [
    {
     "name": "stdout",
     "output_type": "stream",
     "text": [
      "\u001b[1mName\u001b[0m                          \u001b[1mProfile\u001b[0m                       \u001b[1mUser\u001b[0m                       \u001b[1mCurrent\u001b[0m   \n",
      "\u001b[36;1minClusterEnvironmentContext\u001b[0m   inClusterEnvironmentProfile   inClusterEnvironmentUser   *   \n"
     ]
    }
   ],
   "source": [
    "! cpdctl config context list"
   ]
  },
  {
   "cell_type": "markdown",
   "metadata": {
    "id": "c14b99a9-05a7-4289-9001-fbed85f156c9"
   },
   "source": [
    "Switch to the context you just created if it is not marked in the `Current` column:"
   ]
  },
  {
   "cell_type": "code",
   "execution_count": 10,
   "metadata": {
    "id": "772b03ff-3ede-4747-b020-bb40402fa229",
    "tags": []
   },
   "outputs": [
    {
     "name": "stdout",
     "output_type": "stream",
     "text": [
      "Switched to context \"inClusterEnvironmentContext\".\n"
     ]
    }
   ],
   "source": [
    "! cpdctl config context use inClusterEnvironmentContext"
   ]
  },
  {
   "cell_type": "markdown",
   "metadata": {
    "id": "0749a572-93a3-4010-94e6-32092598852b"
   },
   "source": [
    "List available spaces in context:"
   ]
  },
  {
   "cell_type": "code",
   "execution_count": 12,
   "metadata": {
    "id": "00055ca4-d83e-4196-bf47-a818e720aee6",
    "tags": []
   },
   "outputs": [
    {
     "name": "stdout",
     "output_type": "stream",
     "text": [
      "...\n",
      "\u001b[1mID\u001b[0m                                     \u001b[1mName\u001b[0m                                                 \u001b[1mCreated\u001b[0m                    \u001b[1mDescription\u001b[0m                           \u001b[1mState\u001b[0m    \u001b[1mTags\u001b[0m   \n",
      "\u001b[36;1mf1c213be-597f-4c32-bcd5-9e4344ead75c\u001b[0m   AutoAI-TD-Sub-Deployment-Space                       2022-01-25T01:59:19.769Z                                         active   []   \n",
      "\u001b[36;1m83de1cda-6129-4f97-a464-b71ec5224393\u001b[0m   r-shiny-test-space                                   2022-03-23T22:04:12.062Z                                         active   []   \n",
      "\u001b[36;1mef5ae6e4-17be-4e46-af04-6a8f6ace3eae\u001b[0m   julian-test                                          2022-03-29T09:00:24.454Z                                         active   []   \n",
      "\u001b[36;1mcd4e2877-1afc-4d02-a2cb-386020912e44\u001b[0m   openscale-express-path-00000000-0000-0000-0000-16…   2022-03-30T15:10:33.888Z                                         active   []   \n",
      "\u001b[36;1m2e1d6881-c039-4894-8fa2-220a01c9d4af\u001b[0m   openscale-express-path-preprod-00000000-0000-0000…   2022-03-30T15:10:51.098Z                                         active   []   \n",
      "\u001b[36;1mcb70a514-f96d-402f-af86-946c133483ee\u001b[0m   test-analytics-project-git-ibm-sk-1                  2022-04-02T22:59:56.207Z   test-analytics-project-git-ibm-sk-1   active   []   \n",
      "\u001b[36;1me5a47063-9735-48fc-bd1a-45ed88ebf425\u001b[0m   cpdctl-samples-project-notebook-space-test           2022-04-03T21:28:09.195Z                                         active   []   \n"
     ]
    }
   ],
   "source": [
    "! cpdctl space list"
   ]
  },
  {
   "cell_type": "markdown",
   "metadata": {
    "id": "caf65e9b-4c97-4ecf-a80b-4f0e3433c474"
   },
   "source": [
    "Choose the space in which you want to work:"
   ]
  },
  {
   "cell_type": "code",
   "execution_count": 13,
   "metadata": {
    "id": "22643426-c932-41d6-b7fc-5c1c2e3b68f8",
    "tags": []
   },
   "outputs": [
    {
     "name": "stdout",
     "output_type": "stream",
     "text": [
      "space id: f1c213be-597f-4c32-bcd5-9e4344ead75c\n",
      "space id: e5a47063-9735-48fc-bd1a-45ed88ebf425\n"
     ]
    }
   ],
   "source": [
    "result = ! cpdctl space list --output json -j \"(resources[].metadata.id)[0]\" --raw-output\n",
    "space_id = result.s\n",
    "print(\"space id: {}\".format(space_id))\n",
    "\n",
    "# You can also specify your space id directly:\n",
    "space_id = \"e5a47063-9735-48fc-bd1a-45ed88ebf425\"\n",
    "print(\"space id: {}\".format(space_id))"
   ]
  },
  {
   "cell_type": "markdown",
   "metadata": {
    "id": "dbb99792-009c-43b3-affe-0f0a8de089ae"
   },
   "source": [
    "## 2. Demo 1: Creating a notebook asset and running a job <a class=\"anchor\" id=\"part2\"></a>"
   ]
  },
  {
   "cell_type": "markdown",
   "metadata": {
    "id": "79402bcd-e8b1-4f28-939a-6b7db077fa76"
   },
   "source": [
    "Before starting with this section, ensure that you have run the cells in [Section 1](#part1) and specified the ID of the space in which you will work."
   ]
  },
  {
   "cell_type": "markdown",
   "metadata": {
    "id": "d6c88925-1684-4781-b026-e3f2e244f13a"
   },
   "source": [
    "Suppose you have a Jupyter Notebook (.ipynb) file on your local system and you would like to run the code in the file as a job on a CPD cluster. This section shows you how to create a notebook asset and run a job on a CPD cluster. "
   ]
  },
  {
   "cell_type": "markdown",
   "metadata": {
    "id": "512b3bdb-01ac-4177-baa1-bd2b6dd4fd90"
   },
   "source": [
    "### 2.1 Creating a notebook asset<a class=\"anchor\" id=\"part2.1\"></a>"
   ]
  },
  {
   "cell_type": "markdown",
   "metadata": {
    "id": "726b04c1-0d52-406f-9bbb-b753c93d9d9e"
   },
   "source": [
    "First of all, you need to create a notebook asset in your space. To create a notebook asset you need to specify:\n",
    "- The environment in which your notebook is to run\n",
    "- A notebook file (.ipynb)."
   ]
  },
  {
   "cell_type": "markdown",
   "metadata": {
    "id": "835af5ba-d7a9-4088-9f60-0602b98dd022"
   },
   "source": [
    "List all the environments in your space, filter them by their display name and get the ID of the environment in which your notebook will be run:"
   ]
  },
  {
   "cell_type": "code",
   "execution_count": 14,
   "metadata": {
    "id": "39991443-0e13-46e5-979b-8de5b1ba1529",
    "tags": []
   },
   "outputs": [],
   "source": [
    "environment_name = \"Default Python 3.8\"\n",
    "query_string = \"(resources[?entity.environment.display_name == '{}'].metadata.asset_id)[0]\".format(environment_name)"
   ]
  },
  {
   "cell_type": "code",
   "execution_count": 15,
   "metadata": {
    "id": "063bffad-2deb-482e-9b3c-5235ef1bf4a4",
    "tags": []
   },
   "outputs": [
    {
     "name": "stdout",
     "output_type": "stream",
     "text": [
      "environment id: jupconda38-e5a47063-9735-48fc-bd1a-45ed88ebf425\n"
     ]
    }
   ],
   "source": [
    "result = ! cpdctl environment list --space-id {space_id} --output json -j \"{query_string}\" --raw-output\n",
    "env_id = result.s\n",
    "print(\"environment id: {}\".format(env_id))\n",
    "\n",
    "# You can also specify your environment id directly:\n",
    "# env_id = \"Your environment ID\""
   ]
  },
  {
   "cell_type": "markdown",
   "metadata": {
    "id": "4a666779-cf5a-427d-a010-381ca1fe3fff"
   },
   "source": [
    "Upload the .ipynb file:"
   ]
  },
  {
   "cell_type": "code",
   "execution_count": 18,
   "metadata": {
    "id": "49c7c834-9928-4e60-b8fc-f08609dadf46",
    "tags": []
   },
   "outputs": [],
   "source": [
    "remote_file_path = \"notebook/cpdctl-test-notebook.ipynb\"\n",
    "local_file_path = \"my-new-notebook.ipynb\""
   ]
  },
  {
   "cell_type": "code",
   "execution_count": 19,
   "metadata": {
    "id": "296fa523-b39c-428d-af70-b413b184725c",
    "tags": []
   },
   "outputs": [
    {
     "name": "stdout",
     "output_type": "stream",
     "text": [
      "...\n",
      "\u001b[32;1mOK\u001b[0m\n"
     ]
    }
   ],
   "source": [
    "! cpdctl asset file upload --path {remote_file_path} --file {local_file_path} --space-id {space_id}"
   ]
  },
  {
   "cell_type": "markdown",
   "metadata": {
    "id": "0882ac85-ac2d-4244-ad58-0dd4043251fa"
   },
   "source": [
    "Create a notebook asset:"
   ]
  },
  {
   "cell_type": "code",
   "execution_count": 20,
   "metadata": {
    "id": "8d3fc4f1-78d2-4d39-af30-2c83832a1acf",
    "tags": []
   },
   "outputs": [],
   "source": [
    "file_name = \"cpdctl-test-notebook.ipynb\"\n",
    "runtime = {\n",
    "    'environment': env_id\n",
    "}\n",
    "runtime_json = json.dumps(runtime)"
   ]
  },
  {
   "cell_type": "code",
   "execution_count": 21,
   "metadata": {
    "id": "eb71e176-46ec-45db-9540-adc2f33e3fd1",
    "tags": []
   },
   "outputs": [
    {
     "name": "stdout",
     "output_type": "stream",
     "text": [
      "notebook id: 75dcacd5-30f3-4f44-8f5b-7a0973ba9e4b\n"
     ]
    }
   ],
   "source": [
    "result = ! cpdctl notebook create --file-reference {remote_file_path} --name {file_name} --space {space_id} --runtime '{runtime_json}' --output json -j \"metadata.asset_id\" --raw-output\n",
    "notebook_id = result.s\n",
    "print(\"notebook id: {}\".format(notebook_id))"
   ]
  },
  {
   "cell_type": "markdown",
   "metadata": {
    "id": "91f16c8f-e055-4ab5-831c-ce7fa791f84d"
   },
   "source": [
    "### 2.2 Running a job <a class=\"anchor\" id=\"part2.2\"></a>"
   ]
  },
  {
   "cell_type": "markdown",
   "metadata": {
    "id": "ef1bae0d-f030-4f60-bd2b-59329dd3eb6a"
   },
   "source": [
    "To create a notebook job, you need to give your job a name, add a description, and pass the notebook ID and environment ID you determined in [2.1](#part2.1). Additionally, you can add environment variables that will be used in your notebook:"
   ]
  },
  {
   "cell_type": "code",
   "execution_count": 22,
   "metadata": {
    "id": "f909a56d-f785-466a-951f-fe39733e88b2",
    "tags": []
   },
   "outputs": [],
   "source": [
    "job_name = \"cpdctl-test-job\"\n",
    "job = {\n",
    "    'asset_ref': notebook_id, \n",
    "    'configuration': {\n",
    "        'env_id': env_id, \n",
    "        'env_variables': [\n",
    "            'foo=1', \n",
    "            'bar=2'\n",
    "        ]\n",
    "    }, \n",
    "    'description': 'my job', \n",
    "    'name': job_name\n",
    "}\n",
    "job_json = json.dumps(job)"
   ]
  },
  {
   "cell_type": "code",
   "execution_count": 23,
   "metadata": {
    "id": "2adcd6dc-0214-46aa-8b4f-41e9ce800d13",
    "tags": []
   },
   "outputs": [
    {
     "name": "stdout",
     "output_type": "stream",
     "text": [
      "job id: 20a33a05-e5bc-495d-bc44-19a7c71945f2\n"
     ]
    }
   ],
   "source": [
    "result = ! cpdctl job create --job '{job_json}' --space-id {space_id} --output json -j \"metadata.asset_id\" --raw-output\n",
    "job_id = result.s\n",
    "print(\"job id: {}\".format(job_id))"
   ]
  },
  {
   "cell_type": "markdown",
   "metadata": {
    "id": "fedf902f-c4f3-46e2-9495-d02d0a4d3fdf"
   },
   "source": [
    "Run a notebook job:"
   ]
  },
  {
   "cell_type": "code",
   "execution_count": 24,
   "metadata": {
    "id": "1132fbdf-9e55-4cdf-892f-9f2852a2c4f4",
    "tags": []
   },
   "outputs": [],
   "source": [
    "job_run = {\n",
    "    'configuration': {\n",
    "        'env_variables': [\n",
    "            'key1=value1', \n",
    "            'key2=value2'\n",
    "        ]\n",
    "    }\n",
    "}\n",
    "job_run_json = json.dumps(job_run)"
   ]
  },
  {
   "cell_type": "code",
   "execution_count": 25,
   "metadata": {
    "id": "2821f044-c136-447c-a9c6-bba4a91af4f1",
    "tags": []
   },
   "outputs": [
    {
     "name": "stdout",
     "output_type": "stream",
     "text": [
      "run id: 8d485b2b-f027-4559-9879-dbd5fb258fcb\n"
     ]
    }
   ],
   "source": [
    "result = ! cpdctl job run create --space-id {space_id} --job-id {job_id} --job-run '{job_run_json}' --output json -j \"metadata.asset_id\" --raw-output\n",
    "run_id = result.s\n",
    "print(\"run id: {}\".format(run_id))"
   ]
  },
  {
   "cell_type": "markdown",
   "metadata": {
    "id": "20cf7af3-bbee-4e18-8a3a-a9f05d5efa7b"
   },
   "source": [
    "You can see the output of each cell in your .ipynb file by listing job run logs:"
   ]
  },
  {
   "cell_type": "code",
   "execution_count": 26,
   "metadata": {
    "id": "210d6456-5ea0-4182-a61f-2615f239b5a4",
    "scrolled": true,
    "tags": []
   },
   "outputs": [
    {
     "name": "stdout",
     "output_type": "stream",
     "text": [
      "...\n",
      "\n",
      "Cell 6:\n",
      "\n",
      "Cell 9:\n",
      "cpdctl version: 1.1.132\n",
      "\n",
      "Cell 19:\n",
      "\u001b[1mName\u001b[0m                          \u001b[1mProfile\u001b[0m                       \u001b[1mUser\u001b[0m                       \u001b[1mCurrent\u001b[0m   \n",
      "\u001b[36;1minClusterEnvironmentContext\u001b[0m   inClusterEnvironmentProfile   inClusterEnvironmentUser   *   \n",
      "\n",
      "Cell 21:\n",
      "Switched to context \"inClusterEnvironmentContext\".\n",
      "\n",
      "Cell 23:\n",
      "...\n",
      "\n",
      "\u001b[1mID\u001b[0m                                     \u001b[1mName\u001b[0m                                                \u001b[1mCreated\u001b[0m                    \u001b[1mDescription\u001b[0m                                          \u001b[1mTags\u001b[0m   \n",
      "\u001b[36;1m0619c2d3-2b75-42f7-97c1-9d898fdef44c\u001b[0m   Mortgage default project                            2022-02-11T12:02:58.633Z                                                        []   \n",
      "\u001b[36;1m19a29ada-3e9c-4147-bf35-4cf431ed3a26\u001b[0m   AutoAI-TD-Sub                                       2022-01-25T01:20:57.078Z   The classification goal to train a model that can…   []   \n",
      "\u001b[36;1m25fc9237-bda9-42f9-ab83-124bb92b3ae9\u001b[0m   cpdctl-samples-project-notebook-project-test        2022-04-03T15:46:00.738Z                                                        []   \n",
      "\u001b[36;1m2ba058a6-4ef7-4b3b-acde-44baaf288efb\u001b[0m   test-analytics-project-git-ibm-sk-1                 2022-04-01T13:10:46.824Z                                                        []   \n",
      "\u001b[36;1m32d75b88-b113-4bd4-9502-cd2f471a8623\u001b[0m   MLOps-CPD3.0-SWAT-StarterKit-AutoAI-Project-v0.96   2022-01-24T16:02:06.209Z                                                        []   \n",
      "\u001b[36;1m3ea4045c-4ff0-4995-8c80-849d1854b69f\u001b[0m   julian                                              2022-03-30T14:18:22.669Z                                                        []   \n",
      "\u001b[36;1m4aab8ced-62cb-4b13-8708-9883b534c4a6\u001b[0m   test-analytics-project-git-existing-repo            2022-02-11T03:06:38.611Z                                                        []   \n",
      "\u001b[36;1m632cbaf4-f262-45c6-b16b-6746dcc77571\u001b[0m   test-analytics-project-git-ibm-sk-2                 2022-02-15T03:47:31.580Z                                                        []   \n",
      "\u001b[36;1m635a5511-72f6-4eb3-8ec6-0763a25e39cb\u001b[0m   cpdctl-samples-project                              2022-04-03T02:09:06.178Z   cpdctl utility and notebook tutorials sample proj…   []   \n",
      "\u001b[36;1m6d0fa8ad-0b6c-475d-a39e-d672b544d5b6\u001b[0m   MLOps-CPD3.0-SWAT-StarterKit-AutoAI-Project-v0.96   2022-03-29T16:36:07.200Z                                                        []   \n",
      "\n",
      "Cell 25:\n",
      "project id: 0619c2d3-2b75-42f7-97c1-9d898fdef44c\n",
      "\n",
      "Cell 27:\n",
      "project id: 8e7fb7f3-3a92-4c4e-9ab7-042114619ff2\n",
      "\n",
      "Cell 30:\n",
      "connection id: 3eec5229-7980-4f4f-9c93-ebc7dcc04907\n",
      "\n",
      "Cell 32:\n",
      "...\n",
      "\n",
      "\u001b[1mID\u001b[0m                                     \u001b[1mName\u001b[0m               \u001b[1mDescription\u001b[0m                  \u001b[1mType\u001b[0m         \u001b[1mTags\u001b[0m   \n",
      "\u001b[36;1m3eec5229-7980-4f4f-9c93-ebc7dcc04907\u001b[0m   cpdctl-test-conn   test connection to aiosdb2   connection   []   \n",
      "\n",
      "Cell 33:\n",
      "...\n",
      "\n",
      "\u001b[1mID\u001b[0m                                     \u001b[1mName\u001b[0m               \u001b[1mDescription\u001b[0m                  \u001b[1mType\u001b[0m         \u001b[1mTags\u001b[0m   \n",
      "\u001b[36;1m3eec5229-7980-4f4f-9c93-ebc7dcc04907\u001b[0m   cpdctl-test-conn   test connection to aiosdb2   connection   []   \n",
      "\n",
      "Cell 34:\n",
      "...\n",
      "\n",
      "\u001b[1mID\u001b[0m                                     \u001b[1mName\u001b[0m               \u001b[1mDescription\u001b[0m                  \u001b[1mType\u001b[0m         \u001b[1mTags\u001b[0m   \n",
      "\u001b[36;1m3eec5229-7980-4f4f-9c93-ebc7dcc04907\u001b[0m   cpdctl-test-conn   test connection to aiosdb2   connection   []   \n",
      "\n",
      "Cell 36:\n",
      "...\n",
      "\n",
      "\u001b[1m\u001b[0m              \u001b[1m\u001b[0m   \n",
      "\u001b[36;1mfirst\u001b[0m         <Nested Object>   \n",
      "\u001b[36;1mnext\u001b[0m          <Nested Object>   \n",
      "\u001b[36;1mpath\u001b[0m          /DB2INST1   \n",
      "\u001b[36;1mprev\u001b[0m          <Nested Object>   \n",
      "\u001b[36;1mtotal_count\u001b[0m   1   \n",
      "\u001b[36;1masset_types\u001b[0m   <Array>   \n",
      "\u001b[36;1massets\u001b[0m        <Array>   \n",
      "\n",
      "Cell 37:\n",
      "{\n",
      "  \"asset_types\": [\n",
      "    {\n",
      "      \"dataset\": true,\n",
      "      \"dataset_container\": false,\n",
      "      \"type\": \"table\"\n",
      "    }\n",
      "  ],\n",
      "  \"assets\": [\n",
      "    {\n",
      "      \"id\": \"TEST\",\n",
      "      \"name\": \"TEST\",\n",
      "      \"path\": \"/DB2INST1/TEST\",\n",
      "      \"type\": \"table\"\n",
      "    }\n",
      "  ],\n",
      "  \"first\": {\n",
      "    \"href\": \"https://internal-nginx-svc/v2/connections/assets?offset=0\\u0026limit=100\\u0026path=%2FDB2INST1\"\n",
      "  },\n",
      "  \"next\": {\n",
      "    \"href\": \"https://internal-nginx-svc/v2/connections/assets?offset=100\\u0026limit=100\\u0026path=%2FDB2INST1\"\n",
      "  },\n",
      "  \"path\": \"/DB2INST1\",\n",
      "  \"prev\": {\n",
      "    \"href\": \"https://internal-nginx-svc/v2/connections/assets?offset=0\\u0026limit=100\\u0026path=%2FDB2INST1\"\n",
      "  },\n",
      "  \"total_count\": 1\n",
      "}\n",
      "\n",
      "Cell 39:\n",
      "data asset id: 7157bd5f-5e96-4d21-85ca-8bd44ef18609\n",
      "\n",
      "Cell 41:\n",
      "...\n",
      "\n",
      "\u001b[1mfirst\u001b[0m             \u001b[1mpath\u001b[0m            \u001b[1mtotal_count\u001b[0m   \u001b[1mname\u001b[0m   \u001b[1mtype\u001b[0m   \n",
      "\u001b[36;1m<Nested Object>\u001b[0m   DB2INST1/TEST   1             COL1   <Nested Object>   \n",
      "\u001b[36;1m<Nested Object>\u001b[0m   DB2INST1/TEST   1             COL2   <Nested Object>   \n",
      "\n",
      "Cell 42:\n",
      "{\n",
      "  \"fields\": [\n",
      "    {\n",
      "      \"name\": \"COL1\",\n",
      "      \"type\": {\n",
      "        \"length\": 10,\n",
      "        \"nullable\": true,\n",
      "        \"scale\": 0,\n",
      "        \"signed\": true,\n",
      "        \"type\": \"integer\"\n",
      "      }\n",
      "    },\n",
      "    {\n",
      "      \"name\": \"COL2\",\n",
      "      \"type\": {\n",
      "        \"length\": 10,\n",
      "        \"nullable\": true,\n",
      "        \"scale\": 0,\n",
      "        \"signed\": true,\n",
      "        \"type\": \"integer\"\n",
      "      }\n",
      "    }\n",
      "  ],\n",
      "  \"first\": {\n",
      "    \"href\": \"https://internal-nginx-svc/v2/connections/assets/7157bd5f-5e96-4d21-85ca-8bd44ef18609?project_id=8e7fb7f3-3a92-4c4e-9ab7-042114619ff2\\u0026userfs=false\\u0026offset=0\\u0026limit=100\"\n",
      "  },\n",
      "  \"path\": \"DB2INST1/TEST\",\n",
      "  \"total_count\": 1\n",
      "}\n",
      "\n",
      "Cell 44:\n",
      "...\n",
      "\n",
      "\u001b[1m\u001b[0m               \u001b[1m\u001b[0m   \n",
      "\u001b[36;1mID:\u001b[0m            3eec5229-7980-4f4f-9c93-ebc7dcc04907   \n",
      "\u001b[36;1mName:\u001b[0m          cpdctl-test-conn   \n",
      "\u001b[36;1mDescription:\u001b[0m   test connection to aiosdb2   \n",
      "\u001b[36;1mType:\u001b[0m          connection   \n",
      "\u001b[36;1mTags:\u001b[0m          []   \n",
      "\n",
      "Cell 46:\n",
      "...\n",
      "\n",
      "\u001b[1m\u001b[0m               \u001b[1m\u001b[0m   \n",
      "\u001b[36;1mName:\u001b[0m          updated-conn-name   \n",
      "\u001b[36;1mDescription:\u001b[0m   test connection to aiosdb2   \n",
      "\u001b[36;1mTags:\u001b[0m          []   \n",
      "\n",
      "Cell 48:\n",
      "...\n",
      "\n",
      "\u001b[1mName\u001b[0m               \u001b[1mDescription\u001b[0m   \n",
      "\u001b[36;1mget_record_count\u001b[0m   Get the number of rows in the specified table   \n",
      "\n",
      "Cell 49:\n",
      "{\n",
      "  \"actions\": [\n",
      "    {\n",
      "      \"description\": \"Get the number of rows in the specified table\",\n",
      "      \"name\": \"get_record_count\",\n",
      "      \"properties\": {\n",
      "        \"input\": [\n",
      "          {\n",
      "            \"description\": \"Name of the schema that contains the table\",\n",
      "            \"hidden\": false,\n",
      "            \"label\": \"Schema name\",\n",
      "            \"masked\": false,\n",
      "            \"multiline\": false,\n",
      "            \"name\": \"schema_name\",\n",
      "            \"readonly\": false,\n",
      "            \"required\": false,\n",
      "            \"type\": \"string\",\n",
      "            \"user_defined\": false\n",
      "          },\n",
      "          {\n",
      "            \"description\": \"Name of the table for which to obtain the number of rows\",\n",
      "            \"hidden\": false,\n",
      "            \"label\": \"Table name\",\n",
      "            \"masked\": false,\n",
      "            \"multiline\": false,\n",
      "            \"name\": \"table_name\",\n",
      "            \"readonly\": false,\n",
      "            \"required\": true,\n",
      "            \"type\": \"string\",\n",
      "            \"user_defined\": false\n",
      "          }\n",
      "        ],\n",
      "        \"output\": [\n",
      "          {\n",
      "            \"description\": \"Number of available rows\",\n",
      "            \"hidden\": false,\n",
      "            \"label\": \"Record count\",\n",
      "            \"masked\": false,\n",
      "            \"multiline\": false,\n",
      "            \"name\": \"record_count\",\n",
      "            \"readonly\": false,\n",
      "            \"required\": true,\n",
      "            \"type\": \"integer\",\n",
      "            \"user_defined\": false\n",
      "          }\n",
      "        ]\n",
      "      }\n",
      "    }\n",
      "  ]\n",
      "}\n",
      "\n",
      "Cell 51:\n",
      "...\n",
      "\n",
      "\u001b[1m\u001b[0m               \u001b[1m\u001b[0m   \n",
      "\u001b[36;1mrecord_count\u001b[0m   3   \n",
      "\n",
      "Cell 53:\n",
      "...\n",
      "\n",
      "\u001b[1m\u001b[0m              \u001b[1m\u001b[0m   \n",
      "\u001b[36;1mpath\u001b[0m          /DB2INST1   \n",
      "\u001b[36;1mtotal_count\u001b[0m   1   \n",
      "\u001b[36;1masset_types\u001b[0m   <Array>   \n",
      "\u001b[36;1massets\u001b[0m        <Array>   \n",
      "\u001b[36;1mfirst\u001b[0m         <Nested Object>   \n",
      "\n",
      "Cell 54:\n",
      "{\n",
      "  \"asset_types\": [\n",
      "    {\n",
      "      \"dataset\": true,\n",
      "      \"dataset_container\": false,\n",
      "      \"type\": \"table\"\n",
      "    }\n",
      "  ],\n",
      "  \"assets\": [\n",
      "    {\n",
      "      \"id\": \"TEST\",\n",
      "      \"name\": \"TEST\",\n",
      "      \"path\": \"/DB2INST1/TEST\",\n",
      "      \"type\": \"table\"\n",
      "    }\n",
      "  ],\n",
      "  \"first\": {\n",
      "    \"href\": \"https://internal-nginx-svc/v2/connections/3eec5229-7980-4f4f-9c93-ebc7dcc04907/assets?project_id=8e7fb7f3-3a92-4c4e-9ab7-042114619ff2\\u0026userfs=false\\u0026offset=0\\u0026limit=100\\u0026path=%2FDB2INST1\"\n",
      "  },\n",
      "  \"path\": \"/DB2INST1\",\n",
      "  \"total_count\": 1\n",
      "}\n",
      "\n",
      "Cell 56:\n",
      "...\n",
      "\n",
      "\u001b[32;1mOK\u001b[0m\n",
      "\n",
      "Cell 58:\n",
      "...\n",
      "\n",
      "\u001b[32;1mOK\u001b[0m\n",
      "\n",
      "Cell 60:\n",
      "...\n",
      "\n",
      "\u001b[1mID\u001b[0m                                     \u001b[1mName\u001b[0m                        \u001b[1mDescription\u001b[0m                                          \u001b[1mType\u001b[0m       \u001b[1mTags\u001b[0m   \n",
      "\u001b[36;1m029e5d1c-ba73-4b09-b742-14c3a39b6cf9\u001b[0m   informix                    IBM Informix database                                database   []   \n",
      "\u001b[36;1m048ed1bf-516c-46f0-ae90-fa3349d8bc1c\u001b[0m   postgresql-ibmcloud         Databases for PostgreSQL database                    database   []   \n",
      "\u001b[36;1m05b7f0ea-6ae4-45e2-a455-cc280f110825\u001b[0m   googlecloudstorage          Google Cloud Storage                                 file       []   \n",
      "\u001b[36;1m05c58384-862e-4597-b19a-c71ea7e760bc\u001b[0m   impala                      Cloudera Impala database                             database   []   \n",
      "\u001b[36;1m06847b16-07b4-4415-a924-c63d11a17aa1\u001b[0m   salesforce                  Salesforce.com                                       database   []   \n",
      "\u001b[36;1m0bd5946b-6fcb-4253-bf76-48b362d24a89\u001b[0m   datastax-ibmcloud           DataStax on IBM Cloud database                       database   []   \n",
      "\u001b[36;1m0c431748-2572-11ea-978f-2e728ce88125\u001b[0m   cosmos                      Microsoft Azure Cosmos DB                            file       []   \n",
      "\u001b[36;1m0ca92c3d-0e46-3b42-a573-77958d53c9be\u001b[0m   odbc-datastage              Connection to a database using the ODBC applicati…   database   []   \n",
      "\u001b[36;1m0cd4b64c-b485-47ed-a8c4-329c25412de3\u001b[0m   mysql-compose               Compose for MySQL database                           database   []   \n",
      "\u001b[36;1m0fd83fe5-8995-4e2e-a1be-679bb8813a6d\u001b[0m   hive                        Apache Hive database                                 database   []   \n",
      "\u001b[36;1m11f3029d-a1cf-4c4d-b8e7-64422fa54a94\u001b[0m   cognos-analytics            Cognos Analytics                                     file       []   \n",
      "\u001b[36;1m123e4263-dd25-44e5-8282-cf1b2eeea9bd\u001b[0m   cassandra-datastage         Cassandra Connector for DataStage                    generic    []   \n",
      "\u001b[36;1m13e8b257-1dff-49ed-bac8-7eca796a40b3\u001b[0m   hive-watson                 Hive via Execution Engine for Hadoop                 database   []   \n",
      "\u001b[36;1m193a97c1-4475-4a19-b90c-295c4fdc6517\u001b[0m   bluemixcloudobjectstorage   Cloud Object Storage service on IBM Cloud. Offers…   file       []   \n",
      "\u001b[36;1m200d71ab-24a5-4b3d-85a4-a365bdd0d4cb\u001b[0m   elasticsearch               Elasticsearch                                        file       []   \n",
      "\u001b[36;1m21364ca9-5b2d-323e-bd4d-59ba961f75fb\u001b[0m   webspheremq-datastage       MQ connection                                        database   []   \n",
      "\u001b[36;1m27c3e1b0-b7d2-4e32-9511-1b8aaa197de0\u001b[0m   odata                       OData                                                generic    []   \n",
      "\u001b[36;1m2a7b4fa1-c770-4807-8871-a3c5def5aa2d\u001b[0m   azurefilestorage            Microsoft Azure File Storage                         file       []   \n",
      "\u001b[36;1m2bdd9544-f13a-47b6-b6c3-f5964a08066a\u001b[0m   bigsql                      IBM Db2 Big SQL                                      database   []   \n",
      "\u001b[36;1m2fc1372f-b58c-4d45-b0c4-dfb32a1c78a5\u001b[0m   snowflake                   Snowflake database                                   database   []   \n",
      "\u001b[36;1m31170994-f54c-4148-9c5a-807832fa1d07\u001b[0m   redshift                    Amazon Redshift database                             database   []   \n",
      "\u001b[36;1m335cbfe7-e495-474e-8ad7-78ad63c05091\u001b[0m   db2iseries                  IBM Db2 database for i                               database   []   \n",
      "\u001b[36;1m38714ac2-8f66-4a8c-9b40-806ffb61c759\u001b[0m   generics3                   A storage service compatible with the Amazon S3 A…   file       []   \n",
      "\u001b[36;1m39a78d59-ef34-4108-8e46-4460433a3b99\u001b[0m   dvm                         IBM Data Virtualization Manager for z/OS             database   []   \n",
      "\u001b[36;1m3a00dbd2-2540-4976-afc2-5fc59f68ed35\u001b[0m   salesforce-datastage        Connection to a Salesforce.com enterprise applica…   generic    []   \n",
      "\u001b[36;1m4210c294-8b0f-46b4-bcdc-1c6ada2b7e6b\u001b[0m   http                        Hypertext Transfer Protocol (HTTP)                   file       []   \n",
      "\u001b[36;1m44e904b5-0cb2-4d8e-a5c0-c48bc3e24fdd\u001b[0m   cloudant                    IBM Cloudant                                         file       []   \n",
      "\u001b[36;1m4656c47e-3ada-467e-a541-466c0c55df05\u001b[0m   saphana                     SAP HANA database                                    database   []   \n",
      "\u001b[36;1m48695e79-6279-474a-b539-342625d3dfc2\u001b[0m   sqlserver                   Microsoft SQL Server database                        database   []   \n",
      "\u001b[36;1m49079262-fac2-4762-99d1-452c1caf6b49\u001b[0m   sybaseiq                    SAP IQ database                                      database   []   \n",
      "\u001b[36;1m49686982-255f-423a-a5de-d825bfc0abe3\u001b[0m   dv                          IBM Data Virtualization                              database   []   \n",
      "\u001b[36;1m4bf2dedd-3809-4443-96ec-b7bc5726c07b\u001b[0m   cloudobjectstorage          Object storage for workloads requiring AWS SDKs a…   file       []   \n",
      "\u001b[36;1m506039fb-802f-4ef2-a2bf-c1682e9c8aa2\u001b[0m   db2cloud                    IBM Db2 fully-managed cloud SQL database             database   []   \n",
      "\u001b[36;1m507b850c-f4a1-41d7-ad64-4182a1264014\u001b[0m   dropbox                     Dropbox secure file sharing and storage service      file       []   \n",
      "\u001b[36;1m526f54ea-cde0-4818-a0b6-749efd35ccfa\u001b[0m   impala-watson               Impala via Execution Engine for Hadoop               database   []   \n",
      "\u001b[36;1m63e2d853-e650-3b59-91a5-95e7bf725b9b\u001b[0m   netezza-datastage           Connection to a Netezza Performance Server databa…   database   []   \n",
      "\u001b[36;1m6863060d-97c4-4653-abbe-958bde533f8c\u001b[0m   azuredatalake               Microsoft Azure Data Lake Store via the WebHDFS A…   file       []   \n",
      "\u001b[36;1m693c2a02-39d1-4394-9426-fcdcfc4f3d7a\u001b[0m   googlepubsub                Google Cloud Pub/Sub                                 file       []   \n",
      "\u001b[36;1m6976a3fc-b2ad-4db6-818c-ea049cac309d\u001b[0m   sybase                      SAP ASE database                                     database   []   \n",
      "\u001b[36;1m69857d6b-2be8-4a59-8a70-723405f09708\u001b[0m   looker                      Looker                                               file       []   \n",
      "\u001b[36;1m6bcaf300-30b3-11eb-adc1-0242ac120002\u001b[0m   sqlquery                    IBM SQL Query                                        database   []   \n",
      "\u001b[36;1m79a0a133-cbb6-48d0-a3b0-0956a9655401\u001b[0m   sapodata                    SAP OData                                            generic    []   \n",
      "\u001b[36;1m8136a39f-465f-43a3-a606-ce238fb19116\u001b[0m   exasol                      Exasol database                                      database   []   \n",
      "\u001b[36;1m81641c94-a3a7-4d3e-9ea8-bdf79bdd3b06\u001b[0m   minio                       MinIO                                                file       []   \n",
      "\u001b[36;1m81bafdbd-b7c6-45c5-a4fd-6ec135f66f4e\u001b[0m   assetfiles                  Asset Files                                          file       []   \n",
      "\u001b[36;1m82696f1d-600c-4f78-a03c-d8349ea1976f\u001b[0m   derby                       Apache Derby                                         database   []   \n",
      "\u001b[36;1m83da8a63-ffe3-4aa0-9127-adb5331c19cc\u001b[0m   hdfs-watson                 HDFS via Execution Engine for Hadoop                 file       []   \n",
      "\u001b[36;1m895507b6-f23e-40b2-b40a-5414fc9bd2ca\u001b[0m   hdfs-analyticsengine        IBM Analytics Engine HDFS via the WebHDFS API        file       []   \n",
      "\u001b[36;1m8b8fcd6d-8f95-49c7-8195-c72c95c9a84b\u001b[0m   oracle-amazon               Amazon RDS for Oracle database                       database   []   \n",
      "\u001b[36;1m8c1a4480-1c29-4b33-9086-9cb799d7b157\u001b[0m   db2                         IBM Db2 database                                     database   []   \n",
      "\u001b[36;1m8e65204d-6156-49e7-96e5-d635b2aa05f6\u001b[0m   mongodb-ibmcloud            Databases for MongoDB database                       database   []   \n",
      "\u001b[36;1m933152db-99e1-453a-8ce5-ae0e6714d1a9\u001b[0m   bigquery                    Google BigQuery                                      database   []   \n",
      "\u001b[36;1m9493d830-882b-445e-96c7-8e4c635a1a5b\u001b[0m   postgresql-amazon           Amazon RDS for PostgreSQL database                   database   []   \n",
      "\u001b[36;1m9525f6a6-1c44-4925-b1a0-9a2b731518cb\u001b[0m   db2hosted                   IBM Db2 hosted database                              database   []   \n",
      "\u001b[36;1m96ec8f53-a818-4ba1-bd8d-c86cc33a0b45\u001b[0m   teradata                    Teradata database                                    database   []   \n",
      "\u001b[36;1m971223d3-093e-4957-8af9-a83181ee9dd9\u001b[0m   oracle                      Oracle database                                      database   []   \n",
      "\u001b[36;1m99c3c67b-2133-4006-81f6-2b375a0048a3\u001b[0m   box                         Box file sharing, storage, and collaboration         file       []   \n",
      "\u001b[36;1m9a22e0af-8d19-4c4e-9aea-1d733e81315b\u001b[0m   azureblobstorage            Microsoft Azure Blob Storage                         file       []   \n",
      "\u001b[36;1m9aa630f2-efc4-4d54-b8cb-254f31405b78\u001b[0m   mysql-amazon                Amazon RDS for MySQL database                        database   []   \n",
      "\u001b[36;1m9ebc33eb-8c01-43fd-be1e-7202cf5c2c82\u001b[0m   tableau                     Tableau                                              file       []   \n",
      "\u001b[36;1m9f30e3c3-b854-4144-b5c3-98b7a835dc79\u001b[0m   volumes                     Storage volume                                       file       []   \n",
      "\u001b[36;1ma0b1d14a-4767-404c-aac1-4ce0e62818c3\u001b[0m   amazons3                    Amazon Simple Storage Service (S3)                   file       []   \n",
      "\u001b[36;1me375c0ae-cba9-47fc-baf7-523bef88c09e\u001b[0m   azuresql                    Microsoft Azure SQL Database                         database   []   \n",
      "\u001b[36;1mb2cc3dc2-aff7-4a80-8f80-5e8c5703e9d2\u001b[0m   mysql                       MySQL database                                       database   []   \n",
      "\u001b[36;1mc10e5224-f17d-4524-844f-e97b1305e489\u001b[0m   hdfs-apache                 Apache HDFS via the WebHDFS API                      file       []   \n",
      "\u001b[36;1mc2a82a72-0711-4376-a468-4e9951cabf22\u001b[0m   netezza                     IBM Netezza Performance Server database              database   []   \n",
      "\u001b[36;1mc42bcde4-4345-4fb4-b7da-c8c557527c8b\u001b[0m   db2eventstore               IBM Db2 Event Store                                  database   []   \n",
      "\u001b[36;1mc6fb9293-51eb-4f2b-b20c-4dafa3136744\u001b[0m   mongodb                     MongoDB database                                     database   []   \n",
      "\u001b[36;1mc8d3eab2-25f6-4a90-8e10-0b4226693c45\u001b[0m   db2zos                      IBM Db2 database for z/OS                            database   []   \n",
      "\u001b[36;1mc8f3d379-78b2-4bad-969d-2e928277377e\u001b[0m   tm1odata                    Planning Analytics                                   generic    []   \n",
      "\u001b[36;1me6ff8c10-4199-4b58-9a93-749411eafacd\u001b[0m   cassandra                   Apache Cassandra database                            database   []   \n",
      "\u001b[36;1mcfdcb449-1204-44ba-baa6-9a8a878e6aa7\u001b[0m   dashdb                      Db2 Warehouse                                        database   []   \n",
      "\u001b[36;1md5dbc62f-7c4c-4d49-8eb2-dab6cef2969c\u001b[0m   ftp                         Remote file system (FTP)                             file       []   \n",
      "\u001b[36;1mfa31fba9-10e9-32d7-968c-f677fffd1e3b\u001b[0m   db2-datastage               Connection to a Db2 database for the DataStage 'D…   database   []   \n",
      "\u001b[36;1mdd22f798-8c9b-41fa-841e-d66cbdf50722\u001b[0m   oracle-datastage            Connection to an Oracle database for the DataStag…   generic    []   \n",
      "\u001b[36;1me1c23729-99d8-4407-b3df-336e33ffdc82\u001b[0m   postgresql                  PostgreSQL database                                  database   []   \n",
      "\u001b[36;1me278eff1-a7c4-4d60-9a02-bde1bb1d26ef\u001b[0m   greenplum                   Greenplum database                                   database   []   \n",
      "\u001b[36;1me59b1c36-6f30-4879-9f74-7e81dde4cca6\u001b[0m   genericjdbc                 Generic JDBC database                                database   []   \n",
      "\u001b[36;1mf13bc9b7-4a46-48f4-99c3-01d943334ba7\u001b[0m   kafka-datastage             Connection to an Apache Kafka real-time processin…   generic    []   \n",
      "\u001b[36;1mf3ee04c2-7c3b-4534-b300-eb6ef701646d\u001b[0m   mariadb                     MariaDB                                              database   []   \n",
      "\u001b[36;1mfc183fe5-cfe7-40a5-b473-e23ca025f05f\u001b[0m   spss                        IBM SPSS Analytic Server                             database   []   \n",
      "\n",
      "Cell 61:\n",
      "...\n",
      "\n",
      "\u001b[1mID\u001b[0m                                     \u001b[1mName\u001b[0m               \u001b[1mDescription\u001b[0m                                          \u001b[1mType\u001b[0m   \u001b[1mTags\u001b[0m   \n",
      "\u001b[36;1ma0b1d14a-4767-404c-aac1-4ce0e62818c3\u001b[0m   amazons3           Amazon Simple Storage Service (S3)                   file   []   \n",
      "\u001b[36;1m81bafdbd-b7c6-45c5-a4fd-6ec135f66f4e\u001b[0m   assetfiles         Asset Files                                          file   []   \n",
      "\u001b[36;1m9a22e0af-8d19-4c4e-9aea-1d733e81315b\u001b[0m   azureblobstorage   Microsoft Azure Blob Storage                         file   []   \n",
      "\u001b[36;1m6863060d-97c4-4653-abbe-958bde533f8c\u001b[0m   azuredatalake      Microsoft Azure Data Lake Store via the WebHDFS A…   file   []   \n",
      "\u001b[36;1m2a7b4fa1-c770-4807-8871-a3c5def5aa2d\u001b[0m   azurefilestorage   Microsoft Azure File Storage                         file   []   \n",
      "Next token: 'https://internal-nginx-svc/v2/datasource_types?offset=5&limit=5&sort=entity.name'\n",
      "\n",
      "Cell 62:\n",
      "...\n",
      "\n",
      "\u001b[1mID\u001b[0m                                     \u001b[1mName\u001b[0m               \u001b[1mDescription\u001b[0m                       \u001b[1mType\u001b[0m       \u001b[1mTags\u001b[0m   \n",
      "\u001b[36;1m0fd83fe5-8995-4e2e-a1be-679bb8813a6d\u001b[0m   hive               Apache Hive database              database   []   \n",
      "\u001b[36;1m48695e79-6279-474a-b539-342625d3dfc2\u001b[0m   sqlserver          Microsoft SQL Server database     database   []   \n",
      "\u001b[36;1m6bcaf300-30b3-11eb-adc1-0242ac120002\u001b[0m   sqlquery           IBM SQL Query                     database   []   \n",
      "\n",
      "\u001b[36;1m8b8fcd6d-8f95-49c7-8195-c72c95c9a84b\u001b[0m   oracle-amazon      Amazon RDS for Oracle database    database   []   \n",
      "\u001b[36;1m8c1a4480-1c29-4b33-9086-9cb799d7b157\u001b[0m   db2                IBM Db2 database                  database   []   \n",
      "\u001b[36;1m8e65204d-6156-49e7-96e5-d635b2aa05f6\u001b[0m   mongodb-ibmcloud   Databases for MongoDB database    database   []   \n",
      "\u001b[36;1m971223d3-093e-4957-8af9-a83181ee9dd9\u001b[0m   oracle             Oracle database                   database   []   \n",
      "\u001b[36;1mc10e5224-f17d-4524-844f-e97b1305e489\u001b[0m   hdfs-apache        Apache HDFS via the WebHDFS API   file       []   \n",
      "\u001b[36;1mc6fb9293-51eb-4f2b-b20c-4dafa3136744\u001b[0m   mongodb            MongoDB database                  database   []   \n",
      "\u001b[36;1mcfdcb449-1204-44ba-baa6-9a8a878e6aa7\u001b[0m   dashdb             Db2 Warehouse                     database   []   \n",
      "\u001b[36;1me59b1c36-6f30-4879-9f74-7e81dde4cca6\u001b[0m   genericjdbc        Generic JDBC database             database   []   \n",
      "\n",
      "Cell 63:\n",
      "...\n",
      "\n",
      "\u001b[1mID\u001b[0m                                     \u001b[1mName\u001b[0m                        \u001b[1mDescription\u001b[0m                                          \u001b[1mType\u001b[0m       \u001b[1mTags\u001b[0m   \n",
      "\u001b[36;1m029e5d1c-ba73-4b09-b742-14c3a39b6cf9\u001b[0m   informix                    IBM Informix database                                database   []   \n",
      "\u001b[36;1m048ed1bf-516c-46f0-ae90-fa3349d8bc1c\u001b[0m   postgresql-ibmcloud         Databases for PostgreSQL database                    database   []   \n",
      "\u001b[36;1m05b7f0ea-6ae4-45e2-a455-cc280f110825\u001b[0m   googlecloudstorage          Google Cloud Storage                                 file       []   \n",
      "\u001b[36;1m05c58384-862e-4597-b19a-c71ea7e760bc\u001b[0m   impala                      Cloudera Impala database                             database   []   \n",
      "\u001b[36;1m06847b16-07b4-4415-a924-c63d11a17aa1\u001b[0m   salesforce                  Salesforce.com                                       database   []   \n",
      "\u001b[36;1m0bd5946b-6fcb-4253-bf76-48b362d24a89\u001b[0m   datastax-ibmcloud           DataStax on IBM Cloud database                       database   []   \n",
      "\u001b[36;1m0c431748-2572-11ea-978f-2e728ce88125\u001b[0m   cosmos                      Microsoft Azure Cosmos DB                            file       []   \n",
      "\u001b[36;1m0ca92c3d-0e46-3b42-a573-77958d53c9be\u001b[0m   odbc-datastage              Connection to a database using the ODBC applicati…   database   []   \n",
      "\u001b[36;1m0cd4b64c-b485-47ed-a8c4-329c25412de3\u001b[0m   mysql-compose               Compose for MySQL database                           database   []   \n",
      "\u001b[36;1m0fd83fe5-8995-4e2e-a1be-679bb8813a6d\u001b[0m   hive                        Apache Hive database                                 database   []   \n",
      "\u001b[36;1m11f3029d-a1cf-4c4d-b8e7-64422fa54a94\u001b[0m   cognos-analytics            Cognos Analytics                                     file       []   \n",
      "\u001b[36;1m123e4263-dd25-44e5-8282-cf1b2eeea9bd\u001b[0m   cassandra-datastage         Cassandra Connector for DataStage                    generic    []   \n",
      "\u001b[36;1m13e8b257-1dff-49ed-bac8-7eca796a40b3\u001b[0m   hive-watson                 Hive via Execution Engine for Hadoop                 database   []   \n",
      "\u001b[36;1m193a97c1-4475-4a19-b90c-295c4fdc6517\u001b[0m   bluemixcloudobjectstorage   Cloud Object Storage service on IBM Cloud. Offers…   file       []   \n",
      "\u001b[36;1m200d71ab-24a5-4b3d-85a4-a365bdd0d4cb\u001b[0m   elasticsearch               Elasticsearch                                        file       []   \n",
      "\u001b[36;1m21364ca9-5b2d-323e-bd4d-59ba961f75fb\u001b[0m   webspheremq-datastage       MQ connection                                        database   []   \n",
      "\u001b[36;1m27c3e1b0-b7d2-4e32-9511-1b8aaa197de0\u001b[0m   odata                       OData                                                generic    []   \n",
      "\u001b[36;1m2a7b4fa1-c770-4807-8871-a3c5def5aa2d\u001b[0m   azurefilestorage            Microsoft Azure File Storage                         file       []   \n",
      "\u001b[36;1m2bdd9544-f13a-47b6-b6c3-f5964a08066a\u001b[0m   bigsql                      IBM Db2 Big SQL                                      database   []   \n",
      "\u001b[36;1m2fc1372f-b58c-4d45-b0c4-dfb32a1c78a5\u001b[0m   snowflake                   Snowflake database                                   database   []   \n",
      "\u001b[36;1m31170994-f54c-4148-9c5a-807832fa1d07\u001b[0m   redshift                    Amazon Redshift database                             database   []   \n",
      "\u001b[36;1m335cbfe7-e495-474e-8ad7-78ad63c05091\u001b[0m   db2iseries                  IBM Db2 database for i                               database   []   \n",
      "\u001b[36;1m38714ac2-8f66-4a8c-9b40-806ffb61c759\u001b[0m   generics3                   A storage service compatible with the Amazon S3 A…   file       []   \n",
      "\u001b[36;1m39a78d59-ef34-4108-8e46-4460433a3b99\u001b[0m   dvm                         IBM Data Virtualization Manager for z/OS             database   []   \n",
      "\u001b[36;1m3a00dbd2-2540-4976-afc2-5fc59f68ed35\u001b[0m   salesforce-datastage        Connection to a Salesforce.com enterprise applica…   generic    []   \n",
      "\u001b[36;1m4210c294-8b0f-46b4-bcdc-1c6ada2b7e6b\u001b[0m   http                        Hypertext Transfer Protocol (HTTP)                   file       []   \n",
      "\u001b[36;1m44e904b5-0cb2-4d8e-a5c0-c48bc3e24fdd\u001b[0m   cloudant                    IBM Cloudant                                         file       []   \n",
      "\u001b[36;1m4656c47e-3ada-467e-a541-466c0c55df05\u001b[0m   saphana                     SAP HANA database                                    database   []   \n",
      "\u001b[36;1m48695e79-6279-474a-b539-342625d3dfc2\u001b[0m   sqlserver                   Microsoft SQL Server database                        database   []   \n",
      "\u001b[36;1m49079262-fac2-4762-99d1-452c1caf6b49\u001b[0m   sybaseiq                    SAP IQ database                                      database   []   \n",
      "\u001b[36;1m49686982-255f-423a-a5de-d825bfc0abe3\u001b[0m   dv                          IBM Data Virtualization                              database   []   \n",
      "\u001b[36;1m4bf2dedd-3809-4443-96ec-b7bc5726c07b\u001b[0m   cloudobjectstorage          Object storage for workloads requiring AWS SDKs a…   file       []   \n",
      "\u001b[36;1m506039fb-802f-4ef2-a2bf-c1682e9c8aa2\u001b[0m   db2cloud                    IBM Db2 fully-managed cloud SQL database             database   []   \n",
      "\u001b[36;1m507b850c-f4a1-41d7-ad64-4182a1264014\u001b[0m   dropbox                     Dropbox secure file sharing and storage service      file       []   \n",
      "\u001b[36;1m526f54ea-cde0-4818-a0b6-749efd35ccfa\u001b[0m   impala-watson               Impala via Execution Engine for Hadoop               database   []   \n",
      "\u001b[36;1m63e2d853-e650-3b59-91a5-95e7bf725b9b\u001b[0m   netezza-datastage           Connection to a Netezza Performance Server databa…   database   []   \n",
      "\u001b[36;1m6863060d-97c4-4653-abbe-958bde533f8c\u001b[0m   azuredatalake               Microsoft Azure Data Lake Store via the WebHDFS A…   file       []   \n",
      "\u001b[36;1m693c2a02-39d1-4394-9426-fcdcfc4f3d7a\u001b[0m   googlepubsub                Google Cloud Pub/Sub                                 file       []   \n",
      "\u001b[36;1m6976a3fc-b2ad-4db6-818c-ea049cac309d\u001b[0m   sybase                      SAP ASE database                                     database   []   \n",
      "\u001b[36;1m69857d6b-2be8-4a59-8a70-723405f09708\u001b[0m   looker                      Looker                                               file       []   \n",
      "\u001b[36;1m6bcaf300-30b3-11eb-adc1-0242ac120002\u001b[0m   sqlquery                    IBM SQL Query                                        database   []   \n",
      "\u001b[36;1m79a0a133-cbb6-48d0-a3b0-0956a9655401\u001b[0m   sapodata                    SAP OData                                            generic    []   \n",
      "\u001b[36;1m8136a39f-465f-43a3-a606-ce238fb19116\u001b[0m   exasol                      Exasol database                                      database   []   \n",
      "\u001b[36;1m81641c94-a3a7-4d3e-9ea8-bdf79bdd3b06\u001b[0m   minio                       MinIO                                                file       []   \n",
      "\u001b[36;1m81bafdbd-b7c6-45c5-a4fd-6ec135f66f4e\u001b[0m   assetfiles                  Asset Files                                          file       []   \n",
      "\u001b[36;1m82696f1d-600c-4f78-a03c-d8349ea1976f\u001b[0m   derby                       Apache Derby                                         database   []   \n",
      "\u001b[36;1m83da8a63-ffe3-4aa0-9127-adb5331c19cc\u001b[0m   hdfs-watson                 HDFS via Execution Engine for Hadoop                 file       []   \n",
      "\u001b[36;1m895507b6-f23e-40b2-b40a-5414fc9bd2ca\u001b[0m   hdfs-analyticsengine        IBM Analytics Engine HDFS via the WebHDFS API        file       []   \n",
      "\u001b[36;1m8b8fcd6d-8f95-49c7-8195-c72c95c9a84b\u001b[0m   oracle-amazon               Amazon RDS for Oracle database                       database   []   \n",
      "\u001b[36;1m8c1a4480-1c29-4b33-9086-9cb799d7b157\u001b[0m   db2                         IBM Db2 database                                     database   []   \n",
      "\u001b[36;1m8e65204d-6156-49e7-96e5-d635b2aa05f6\u001b[0m   mongodb-ibmcloud            Databases for MongoDB database                       database   []   \n",
      "\u001b[36;1m933152db-99e1-453a-8ce5-ae0e6714d1a9\u001b[0m   bigquery                    Google BigQuery                                      database   []   \n",
      "\u001b[36;1m9493d830-882b-445e-96c7-8e4c635a1a5b\u001b[0m   postgresql-amazon           Amazon RDS for PostgreSQL database                   database   []   \n",
      "\u001b[36;1m9525f6a6-1c44-4925-b1a0-9a2b731518cb\u001b[0m   db2hosted                   IBM Db2 hosted database                              database   []   \n",
      "\u001b[36;1m96ec8f53-a818-4ba1-bd8d-c86cc33a0b45\u001b[0m   teradata                    Teradata database                                    database   []   \n",
      "\u001b[36;1m971223d3-093e-4957-8af9-a83181ee9dd9\u001b[0m   oracle                      Oracle database                                      database   []   \n",
      "\u001b[36;1m99c3c67b-2133-4006-81f6-2b375a0048a3\u001b[0m   box                         Box file sharing, storage, and collaboration         file       []   \n",
      "\u001b[36;1m9a22e0af-8d19-4c4e-9aea-1d733e81315b\u001b[0m   azureblobstorage            Microsoft Azure Blob Storage                         file       []   \n",
      "\u001b[36;1m9aa630f2-efc4-4d54-b8cb-254f31405b78\u001b[0m   mysql-amazon                Amazon RDS for MySQL database                        database   []   \n",
      "\u001b[36;1m9ebc33eb-8c01-43fd-be1e-7202cf5c2c82\u001b[0m   tableau                     Tableau                                              file       []   \n",
      "\u001b[36;1m9f30e3c3-b854-4144-b5c3-98b7a835dc79\u001b[0m   volumes                     Storage volume                                       file       []   \n",
      "\u001b[36;1ma0b1d14a-4767-404c-aac1-4ce0e62818c3\u001b[0m   amazons3                    Amazon Simple Storage Service (S3)                   file       []   \n",
      "\u001b[36;1me375c0ae-cba9-47fc-baf7-523bef88c09e\u001b[0m   azuresql                    Microsoft Azure SQL Database                         database   []   \n",
      "\u001b[36;1mb2cc3dc2-aff7-4a80-8f80-5e8c5703e9d2\u001b[0m   mysql                       MySQL database                                       database   []   \n",
      "\u001b[36;1mc10e5224-f17d-4524-844f-e97b1305e489\u001b[0m   hdfs-apache                 Apache HDFS via the WebHDFS API                      file       []   \n",
      "\u001b[36;1mc2a82a72-0711-4376-a468-4e9951cabf22\u001b[0m   netezza                     IBM Netezza Performance Server database              database   []   \n",
      "\u001b[36;1mc42bcde4-4345-4fb4-b7da-c8c557527c8b\u001b[0m   db2eventstore               IBM Db2 Event Store                                  database   []   \n",
      "\u001b[36;1mc6fb9293-51eb-4f2b-b20c-4dafa3136744\u001b[0m   mongodb                     MongoDB database                                     database   []   \n",
      "\u001b[36;1mc8d3eab2-25f6-4a90-8e10-0b4226693c45\u001b[0m   db2zos                      IBM Db2 database for z/OS                            database   []   \n",
      "\u001b[36;1mc8f3d379-78b2-4bad-969d-2e928277377e\u001b[0m   tm1odata                    Planning Analytics                                   generic    []   \n",
      "\u001b[36;1me6ff8c10-4199-4b58-9a93-749411eafacd\u001b[0m   cassandra                   Apache Cassandra database                            database   []   \n",
      "\u001b[36;1mcfdcb449-1204-44ba-baa6-9a8a878e6aa7\u001b[0m   dashdb                      Db2 Warehouse                                        database   []   \n",
      "\u001b[36;1md5dbc62f-7c4c-4d49-8eb2-dab6cef2969c\u001b[0m   ftp                         Remote file system (FTP)                             file       []   \n",
      "\u001b[36;1mfa31fba9-10e9-32d7-968c-f677fffd1e3b\u001b[0m   db2-datastage               Connection to a Db2 database for the DataStage 'D…   database   []   \n",
      "\u001b[36;1mdd22f798-8c9b-41fa-841e-d66cbdf50722\u001b[0m   oracle-datastage            Connection to an Oracle database for the DataStag…   generic    []   \n",
      "\u001b[36;1me1c23729-99d8-4407-b3df-336e33ffdc82\u001b[0m   postgresql                  PostgreSQL database                                  database   []   \n",
      "\u001b[36;1me278eff1-a7c4-4d60-9a02-bde1bb1d26ef\u001b[0m   greenplum                   Greenplum database                                   database   []   \n",
      "\u001b[36;1me59b1c36-6f30-4879-9f74-7e81dde4cca6\u001b[0m   genericjdbc                 Generic JDBC database                                database   []   \n",
      "\u001b[36;1mf13bc9b7-4a46-48f4-99c3-01d943334ba7\u001b[0m   kafka-datastage             Connection to an Apache Kafka real-time processin…   generic    []   \n",
      "\u001b[36;1mf3ee04c2-7c3b-4534-b300-eb6ef701646d\u001b[0m   mariadb                     MariaDB                                              database   []   \n",
      "\u001b[36;1mfc183fe5-cfe7-40a5-b473-e23ca025f05f\u001b[0m   spss                        IBM SPSS Analytic Server                             database   []   \n",
      "\n",
      "Cell 65:\n",
      "...\n",
      "\n",
      "\u001b[1m\u001b[0m               \u001b[1m\u001b[0m   \n",
      "\u001b[36;1mID:\u001b[0m            cfdcb449-1204-44ba-baa6-9a8a878e6aa7   \n",
      "\u001b[36;1mName:\u001b[0m          dashdb   \n",
      "\u001b[36;1mDescription:\u001b[0m   Db2 Warehouse   \n",
      "\u001b[36;1mType:\u001b[0m          database   \n",
      "\u001b[36;1mTags:\u001b[0m          []   \n",
      "\n",
      "Cell 66:\n",
      "...\n",
      "\n",
      "\u001b[1m\u001b[0m               \u001b[1m\u001b[0m   \n",
      "\u001b[36;1mID:\u001b[0m            cfdcb449-1204-44ba-baa6-9a8a878e6aa7   \n",
      "\u001b[36;1mName:\u001b[0m          dashdb   \n",
      "\u001b[36;1mDescription:\u001b[0m   Db2 Warehouse   \n",
      "\u001b[36;1mType:\u001b[0m          database   \n",
      "\u001b[36;1mTags:\u001b[0m          []   \n",
      "\n",
      "Cell 67:\n",
      "...\n",
      "\n",
      "\u001b[1m\u001b[0m               \u001b[1m\u001b[0m   \n",
      "\u001b[36;1mID:\u001b[0m            8c1a4480-1c29-4b33-9086-9cb799d7b157   \n",
      "\u001b[36;1mName:\u001b[0m          db2   \n",
      "\u001b[36;1mDescription:\u001b[0m   IBM Db2 database   \n",
      "\u001b[36;1mType:\u001b[0m          database   \n",
      "\u001b[36;1mTags:\u001b[0m          []   \n",
      "\n",
      "Cell 68:\n",
      "...\n",
      "\n",
      "\u001b[1m\u001b[0m               \u001b[1m\u001b[0m   \n",
      "\u001b[36;1mID:\u001b[0m            8c1a4480-1c29-4b33-9086-9cb799d7b157   \n",
      "\u001b[36;1mName:\u001b[0m          db2   \n",
      "\u001b[36;1mDescription:\u001b[0m   IBM Db2 database   \n",
      "\u001b[36;1mType:\u001b[0m          database   \n",
      "\u001b[36;1mTags:\u001b[0m          []   \n",
      "\n",
      "\n"
     ]
    }
   ],
   "source": [
    "! cpdctl job run logs --job-id {job_id} --run-id {run_id} --space-id {space_id}"
   ]
  },
  {
   "cell_type": "markdown",
   "metadata": {
    "id": "55d96f55-1946-4cce-817b-5e82ffe44063"
   },
   "source": [
    "## 3. Demo 2: Creating a code package asset and running a job <a class=\"anchor\" id=\"part3\"></a>"
   ]
  },
  {
   "cell_type": "markdown",
   "metadata": {
    "id": "9823a7a4-7033-4f6d-82a8-40599498ff88"
   },
   "source": [
    "Before starting with this section, ensure that you have run the cells in [Section 1](#part1) and specified the ID of the space in which you will work."
   ]
  },
  {
   "cell_type": "markdown",
   "metadata": {
    "id": "8c46d1c1-8387-456e-82b3-59746d4d7c42"
   },
   "source": [
    "A code package is a way of organizing a set of dependent files in a folder structure. For example, a code package can contain a notebook file that calls other notebook files or functions in script files."
   ]
  },
  {
   "cell_type": "markdown",
   "metadata": {
    "id": "1f7541e7-19d7-454a-83b3-cb51bf393260"
   },
   "source": [
    "Suppose you have a ZIP file of this folder structure on your local system and would like to run the code in the folder as a job on a CPD cluster. This section shows you how to create and register a code package asset in a deployment space and run the files in the code package asset as a job."
   ]
  },
  {
   "cell_type": "markdown",
   "metadata": {
    "id": "fd373029-323a-4a3f-a0e5-8dda5ee7dc85"
   },
   "source": [
    "### 3.1 Creating a code package asset<a class=\"anchor\" id=\"part3.1\"></a>"
   ]
  },
  {
   "cell_type": "markdown",
   "metadata": {
    "id": "5c3cc68a-7464-4747-a0b2-4af0b01cd805"
   },
   "source": [
    "Upload the .zip file:"
   ]
  },
  {
   "cell_type": "code",
   "execution_count": 31,
   "metadata": {
    "id": "932e82b8-ae53-42c8-b9d6-47f141508100",
    "tags": []
   },
   "outputs": [],
   "source": [
    "remote_file_path = \"code_package/cpdctl-test-code-package.zip\"\n",
    "local_file_path = \"JupyterLabs-R-studio-Git-1-master.zip\""
   ]
  },
  {
   "cell_type": "code",
   "execution_count": 32,
   "metadata": {
    "id": "847e9c46-73c1-4633-9933-f8327f013a88",
    "tags": []
   },
   "outputs": [
    {
     "name": "stdout",
     "output_type": "stream",
     "text": [
      "...\n",
      "\u001b[32;1mOK\u001b[0m\n"
     ]
    }
   ],
   "source": [
    "! cpdctl asset file upload --path {remote_file_path} --file {local_file_path} --space-id {space_id}"
   ]
  },
  {
   "cell_type": "markdown",
   "metadata": {
    "id": "5aab849e-5019-4ae7-8a95-ea27cce00076"
   },
   "source": [
    "Create a code package asset. The code package asset has the same name as the ZIP file."
   ]
  },
  {
   "cell_type": "code",
   "execution_count": 33,
   "metadata": {
    "id": "53ab4a02-ddf9-4d72-b4af-5c0b7ff11db9",
    "tags": []
   },
   "outputs": [],
   "source": [
    "os.environ[\"CPDCTL_ENABLE_CODE_PACKAGE\"] = \"true\""
   ]
  },
  {
   "cell_type": "code",
   "execution_count": 34,
   "metadata": {
    "id": "15dc235f-a2aa-4a53-82fa-b499daa8638a",
    "tags": []
   },
   "outputs": [],
   "source": [
    "file_name = \"cpdctl-test-code-package.zip\""
   ]
  },
  {
   "cell_type": "code",
   "execution_count": 35,
   "metadata": {
    "id": "a34921c3-eb69-47cb-9b9f-063dd8834297",
    "tags": []
   },
   "outputs": [
    {
     "name": "stdout",
     "output_type": "stream",
     "text": [
      "code package id: 7a4f781a-54da-454b-bc71-e067da915752\n"
     ]
    }
   ],
   "source": [
    "result = ! cpdctl code-package create --file-reference {remote_file_path} --name {file_name} --space-id {space_id} --output json -j \"metadata.asset_id\" --raw-output\n",
    "code_package_id = result.s\n",
    "print(\"code package id: {}\".format(code_package_id))"
   ]
  },
  {
   "cell_type": "markdown",
   "metadata": {
    "id": "f07d7021-f8f1-4751-bff2-2b2937dfe186"
   },
   "source": [
    "### 3.2 Running a job <a class=\"anchor\" id=\"part3.2\"></a>"
   ]
  },
  {
   "cell_type": "markdown",
   "metadata": {
    "id": "a77a34a3-91c9-4685-a02a-88ee9d0a0fea"
   },
   "source": [
    "List all the environments in your space, filter them by their display name and get the ID of the environment in which your code package will be run:"
   ]
  },
  {
   "cell_type": "code",
   "execution_count": 36,
   "metadata": {
    "id": "5ec7dd11-3eda-40eb-84e5-1999f421d581",
    "tags": []
   },
   "outputs": [],
   "source": [
    "environment_name = \"Default Python 3.8\"\n",
    "query_string = \"(resources[?entity.environment.display_name == '{}'].metadata.asset_id)[0]\".format(environment_name)"
   ]
  },
  {
   "cell_type": "code",
   "execution_count": 37,
   "metadata": {
    "id": "cf7a19d2-b796-4ea7-a22c-43f169981baa",
    "tags": []
   },
   "outputs": [
    {
     "name": "stdout",
     "output_type": "stream",
     "text": [
      "environment id: jupconda38-e5a47063-9735-48fc-bd1a-45ed88ebf425\n"
     ]
    }
   ],
   "source": [
    "result = ! cpdctl environment list --space-id {space_id} --output json -j \"{query_string}\" --raw-output\n",
    "env_id = result.s\n",
    "print(\"environment id: {}\".format(env_id))\n",
    "\n",
    "# You can also specify your environment id directly:\n",
    "# env_id = \"Your environment ID\""
   ]
  },
  {
   "cell_type": "markdown",
   "metadata": {
    "id": "8156eb56-f096-4fe8-b26a-5a02f9751abe"
   },
   "source": [
    "To create a code package job, you need to give your job a name, add a description, set an entrypoint and pass the code package ID and the environment ID. Additionally, you can add environment variables that will be used in your notebook:"
   ]
  },
  {
   "cell_type": "code",
   "execution_count": 38,
   "metadata": {
    "id": "2a664775-243a-40e7-b24c-725571e4a04f",
    "tags": []
   },
   "outputs": [],
   "source": [
    "job_name = \"cpdctl-test-code-package-job\"\n",
    "job = {\n",
    "    'asset_ref': code_package_id, \n",
    "    'configuration': {\n",
    "        'env_id': env_id, \n",
    "        'env_variables': [\n",
    "            'foo=1', \n",
    "            'bar=2'\n",
    "        ],\n",
    "        'entrypoint': \"test.ipynb\"\n",
    "    }, \n",
    "    'description': 'my code package job', \n",
    "    'name': job_name\n",
    "}\n",
    "job_json = json.dumps(job)"
   ]
  },
  {
   "cell_type": "code",
   "execution_count": 39,
   "metadata": {
    "id": "83579d98-f6f1-4689-b11a-8cb2643e534c",
    "tags": []
   },
   "outputs": [
    {
     "name": "stdout",
     "output_type": "stream",
     "text": [
      "job id: 729ddec8-2d52-4fdf-87cb-6557497b3436\n"
     ]
    }
   ],
   "source": [
    "result = ! cpdctl job create --job '{job_json}' --space-id {space_id} --output json -j \"metadata.asset_id\" --raw-output\n",
    "job_id = result.s\n",
    "print(\"job id: {}\".format(job_id))"
   ]
  },
  {
   "cell_type": "markdown",
   "metadata": {
    "id": "70195b12-7418-4141-8d25-00588a85fa44"
   },
   "source": [
    "Run a code packge job:"
   ]
  },
  {
   "cell_type": "code",
   "execution_count": 40,
   "metadata": {
    "id": "5b5f30f9-557e-4fbb-9e1a-3d7c91048f06",
    "tags": []
   },
   "outputs": [],
   "source": [
    "job_run = {\n",
    "    'configuration': {\n",
    "        'env_variables': [\n",
    "            'key1=value1', \n",
    "            'key2=value2'\n",
    "        ]\n",
    "    }\n",
    "}\n",
    "job_run_json = json.dumps(job_run)"
   ]
  },
  {
   "cell_type": "code",
   "execution_count": 41,
   "metadata": {
    "id": "6a6e95f2-d648-4f1a-b02c-bd34a1ff30e1",
    "tags": []
   },
   "outputs": [
    {
     "name": "stdout",
     "output_type": "stream",
     "text": [
      "run id: FAILED                      ID:            ad402ef0-8e25-40cd-84d0-0e5564a89354    Name:          Notebook Job    Created:       2022-04-03T22:14:31Z    Description:       State:         Failed    Tags:          []   \n"
     ]
    }
   ],
   "source": [
    "result = ! cpdctl job run create --space-id {space_id} --job-id {job_id} --job-run '{job_run_json}' --output json -j \"metadata.asset_id\" --raw-output\n",
    "run_id = result.s\n",
    "print(\"run id: {}\".format(run_id))"
   ]
  },
  {
   "cell_type": "markdown",
   "metadata": {
    "id": "3a05fe3d-223d-44bc-8aa3-7a05e761e60a"
   },
   "source": [
    "You can see the output of each cell in your .ipynb file by listing job run logs:"
   ]
  },
  {
   "cell_type": "code",
   "execution_count": 50,
   "metadata": {
    "id": "1b610086-6cb5-411d-a22b-738d10dcdbdb",
    "scrolled": true
   },
   "outputs": [
    {
     "name": "stdout",
     "output_type": "stream",
     "text": [
      "...\n",
      "\n",
      "Cell 1:\n",
      "0\n",
      "1\n",
      "2\n",
      "3\n",
      "4\n",
      "\n",
      "\n"
     ]
    }
   ],
   "source": [
    "! cpdctl job run logs --job-id {job_id} --run-id {run_id} --space-id {space_id}"
   ]
  },
  {
   "cell_type": "markdown",
   "metadata": {
    "id": "5fcf431d-e743-4bf4-a9a6-3e2e082a72a7"
   },
   "source": [
    "## 4. Demo 3: Promoting a notebook from a project to a space <a class=\"anchor\" id=\"part4\"></a>"
   ]
  },
  {
   "cell_type": "markdown",
   "metadata": {
    "id": "e92e22be-fbbb-40ce-9895-3c2a0b94572f"
   },
   "source": [
    "Before starting with this section, ensure that you have run the cells in [Section 1](#part1) and specified the ID of the space in which you will work."
   ]
  },
  {
   "cell_type": "markdown",
   "metadata": {
    "id": "dd225e79-76c1-4df6-b491-f4253f83551f"
   },
   "source": [
    "Suppose you have a notebook in a project and would like to promote a specific version of this notebook to a space. This section shows you how to promote a notebook from a project to a space on a CPD cluster."
   ]
  },
  {
   "cell_type": "markdown",
   "metadata": {
    "id": "a531972b-a657-470b-98ca-f397e14d616a"
   },
   "source": [
    "Choose a project from which you will promote your notebook:"
   ]
  },
  {
   "cell_type": "code",
   "execution_count": 51,
   "metadata": {
    "id": "5a22fb22-7f86-4cf6-98ea-fa8cc37ccd08"
   },
   "outputs": [
    {
     "name": "stdout",
     "output_type": "stream",
     "text": [
      "project id: 0f5a1f58-7fdc-4a34-ad75-28c5b122758a\n"
     ]
    }
   ],
   "source": [
    "result = ! cpdctl project list --output json -j \"(resources[].metadata.guid)[0]\" --raw-output\n",
    "project_id = result.s\n",
    "print(\"project id: {}\".format(project_id))\n",
    "\n",
    "# You can also specify your project id directly:\n",
    "# project_id = \"Your project ID\""
   ]
  },
  {
   "cell_type": "markdown",
   "metadata": {
    "id": "3b635716-c9ee-4968-a833-9a53bfc3fe19"
   },
   "source": [
    "Specify the notebook you would like to promote:"
   ]
  },
  {
   "cell_type": "code",
   "execution_count": 52,
   "metadata": {
    "id": "d8d94160-9c0a-4e7d-9dd1-797e74c8f2cc"
   },
   "outputs": [
    {
     "name": "stdout",
     "output_type": "stream",
     "text": [
      "notebook id in project: 8ead5d49-0a5d-4325-9017-996c3bf40245\n"
     ]
    }
   ],
   "source": [
    "result = ! cpdctl asset search --type-name notebook --query \"asset.asset_type:notebook\" --project-id {project_id} --output json -j \"(results[].metadata.asset_id)[0]\" --raw-output\n",
    "notebook_id_in_project = result.s\n",
    "print(\"notebook id in project: {}\".format(notebook_id_in_project))\n",
    "\n",
    "# You can also specify your notebook id in project directly:\n",
    "# notebook_id_in_project = \"Your notebook ID in project\""
   ]
  },
  {
   "cell_type": "markdown",
   "metadata": {
    "id": "eedc54b0-c275-463b-ba14-34889ab20d5c"
   },
   "source": [
    "Create a version for your notebook if it has not any version and get its corresponding revision id:"
   ]
  },
  {
   "cell_type": "code",
   "execution_count": 58,
   "metadata": {
    "id": "09f7ed39-a92f-4d07-97a3-3027a5115e3d"
   },
   "outputs": [
    {
     "name": "stdout",
     "output_type": "stream",
     "text": [
      "revision id: 7\n"
     ]
    }
   ],
   "source": [
    "result = ! cpdctl notebook version create --notebook-id {notebook_id_in_project} --output json -j \"entity.rev_id\" --raw-output\n",
    "revision_id = result.s\n",
    "print(\"revision id: {}\".format(revision_id))"
   ]
  },
  {
   "cell_type": "markdown",
   "metadata": {
    "id": "a33a09ce-9c42-4e7d-ae4e-5a24d305ca0b"
   },
   "source": [
    "Or specify an existing revision of the notebook:"
   ]
  },
  {
   "cell_type": "code",
   "execution_count": 59,
   "metadata": {
    "id": "8408f3bc-d0d1-477b-9338-033e7a9c0035"
   },
   "outputs": [
    {
     "name": "stdout",
     "output_type": "stream",
     "text": [
      "revision id: 7\n"
     ]
    }
   ],
   "source": [
    "result = ! cpdctl notebook version list --notebook-id {notebook_id_in_project} --output json -j \"(resources[].entity.rev_id)[0]\" --raw-output\n",
    "revision_id = result.s\n",
    "print(\"revision id: {}\".format(revision_id))\n",
    "\n",
    "# You can also specify your revision id directly:\n",
    "# revision_id = \"Your revision ID\""
   ]
  },
  {
   "cell_type": "markdown",
   "metadata": {
    "id": "5f7c0e7a-cb2f-4b55-8ebf-16b8800c76a8"
   },
   "source": [
    "Promote the notebook to the space. The parameters `name` and `description` are optional. If they are not specified, the name and description of the original notebook in the project will be used."
   ]
  },
  {
   "cell_type": "code",
   "execution_count": 60,
   "metadata": {
    "id": "1dcf8730-e287-4cc8-a9f8-bcf53c5ea434"
   },
   "outputs": [],
   "source": [
    "notebook_name = \"cpdctl_test_promote\"\n",
    "notebook_description = \"cpdctl test promote\"\n",
    "request_body = {\n",
    "    'space_id': space_id,\n",
    "    'metadata': {\n",
    "        'name': notebook_name,\n",
    "        'description': notebook_description\n",
    "    }\n",
    "}\n",
    "request_body = json.dumps(request_body)"
   ]
  },
  {
   "cell_type": "code",
   "execution_count": 61,
   "metadata": {
    "id": "46f7a277-1963-4e62-8eef-4d06f6534698"
   },
   "outputs": [
    {
     "name": "stdout",
     "output_type": "stream",
     "text": [
      "notebook id in space: [   \"20377bfa-4cb8-4a98-8e9b-94e83817daae\" ]\n"
     ]
    }
   ],
   "source": [
    "result = ! cpdctl asset promote --asset-id {notebook_id_in_project} --revision-id {revision_id} --project-id {project_id} --request-body '{request_body}'\n",
    "# verify that the notebook has been promoted into the space\n",
    "result = ! cpdctl asset search --space-id {space_id} --type-name notebook --query asset.name:{notebook_name} --output json -j \"(results[].metadata.asset_id)\" --raw-output\n",
    "notebook_id_in_space = result.s\n",
    "print(\"notebook id in space: {}\".format(notebook_id_in_space))"
   ]
  },
  {
   "cell_type": "markdown",
   "metadata": {
    "id": "7b4e5bc5-a895-4eab-b50f-8c36de297579"
   },
   "source": [
    "Copyright © 2021 IBM. This notebook and its source code are released under the terms of the MIT License."
   ]
  }
 ],
 "metadata": {
  "kernelspec": {
   "display_name": "Python 3.9",
   "language": "python",
   "name": "python3"
  },
  "language_info": {
   "codemirror_mode": {
    "name": "ipython",
    "version": 3
   },
   "file_extension": ".py",
   "mimetype": "text/x-python",
   "name": "python",
   "nbconvert_exporter": "python",
   "pygments_lexer": "ipython3",
   "version": "3.9.7"
  }
 },
 "nbformat": 4,
 "nbformat_minor": 4
}
